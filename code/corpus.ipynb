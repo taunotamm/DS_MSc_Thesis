{
 "cells": [
  {
   "cell_type": "markdown",
   "id": "5e455eda-10b6-4bc2-b9fe-8504de4f37f4",
   "metadata": {},
   "source": [
    "<h1>Korpuse loomine</h1>\n",
    "<h5>Olemasoleva andmestiku puhastamine ning korpuse loomine</h5>"
   ]
  },
  {
   "cell_type": "code",
   "execution_count": 2,
   "id": "01f4dc08-7ca5-4164-83fa-c23d7b83307b",
   "metadata": {},
   "outputs": [],
   "source": [
    "import json\n",
    "import os, os.path"
   ]
  },
  {
   "cell_type": "markdown",
   "id": "4f947789-f130-44bf-8b6b-e05d21938f89",
   "metadata": {},
   "source": [
    "<h5>Loeme sisse postitused ja kommentaarid</h5>"
   ]
  },
  {
   "cell_type": "code",
   "execution_count": 141,
   "id": "a1588e44-6951-4a6e-99b4-ce22b6e90d65",
   "metadata": {},
   "outputs": [],
   "source": [
    "posts = []\n",
    "with open(\"output.json\", \"r\", encoding = 'utf-8') as file:\n",
    "    for line in file:\n",
    "        rida = json.loads(line)\n",
    "        posts.append(rida)"
   ]
  },
  {
   "cell_type": "code",
   "execution_count": 149,
   "id": "cc6f125d-af1a-4903-b64e-346e602db865",
   "metadata": {},
   "outputs": [],
   "source": [
    "comments = []\n",
    "with open(\"comments_output.json\", \"r\", encoding = 'utf-8') as file:\n",
    "    for line in file:\n",
    "        rida = json.loads(line)\n",
    "        comments.append(rida)"
   ]
  },
  {
   "cell_type": "markdown",
   "id": "fb1a4d31-c5e3-41be-af5c-6a1962684286",
   "metadata": {},
   "source": [
    "<h5>Struktureerime kommentaarid ning lisame need postituste hulka ID järgi.</h5>"
   ]
  },
  {
   "cell_type": "code",
   "execution_count": 150,
   "id": "ae411bfa-0a6e-4c63-b242-4fa41f074a35",
   "metadata": {},
   "outputs": [],
   "source": [
    "comments_copy = comments.copy()\n",
    "#print(comments[0])\n",
    "#print(comments[0][\"link_id\"])\n",
    "dict_comments = dict()\n",
    "for comment in comments_copy:\n",
    "    #print(comment)\n",
    "    body = comment[\"body\"]\n",
    "    comment.pop('body', None)\n",
    "    link_id = comment[\"link_id\"].split(\"_\")[1]\n",
    "    if link_id not in dict_comments.keys():\n",
    "        dict_comments[link_id] = {comment[\"id\"]:{\n",
    "            \"text\":body,\n",
    "            \"meta\":comment\n",
    "        }\n",
    "        }\n",
    "        \n",
    "    else:\n",
    "        dict_comments[link_id][comment[\"id\"]] = {\n",
    "        \"text\": body,\n",
    "        \"meta\": comment\n",
    "    }"
   ]
  },
  {
   "cell_type": "code",
   "execution_count": 153,
   "id": "fe68be3a-8bc5-40e7-b9ce-a4424c8980d3",
   "metadata": {},
   "outputs": [],
   "source": [
    "posts_copy = posts.copy()\n",
    "title_string = '''data/Eesti_'''\n",
    "\n",
    "#print(posts[0][\"selftext\"])\n",
    "#print(posts[0][\"created_utc\"][:10])\n",
    "keys = dict_comments.keys()\n",
    "\n",
    "for post in posts_copy:\n",
    "    #print(post)\n",
    "    if \"selftext\" in post:\n",
    "        text = post[\"selftext\"]\n",
    "        date = post[\"created_utc\"].replace(\" \", \"_\")\n",
    "        date = date.replace(\":\", \".\")\n",
    "        post.pop('selftext', None)\n",
    "    else:\n",
    "        text = \"\"\n",
    "    \n",
    "    comments = []\n",
    "    if post[\"id\"] in keys:\n",
    "        comments = dict_comments[post[\"id\"]]\n",
    "    \n",
    "    data = {\"text\":text,\n",
    "            \"meta\":post,\n",
    "            \"comments\":comments\n",
    "            }\n",
    "    \n",
    "    title = title_string + date + \".json\"\n",
    "    with open(title, 'w') as f:\n",
    "        json.dump(data, f)\n",
    "\n",
    "# kui postitusel on sisu tekst, siis on tegemist tekstipostitusega\n",
    "# kui postitusel on olemas muutuja \"poll_data\" on tegemist polliga\n",
    "# kui on tegemist link tüüpi postitusega, siis on url väljal mingi redditist erinev url millele viidatakse\n",
    "# kui on tegemist pildiga, siis on url väljal näha pildiformaadi laiendit"
   ]
  }
 ],
 "metadata": {
  "kernelspec": {
   "display_name": "Python 3 (ipykernel)",
   "language": "python",
   "name": "python3"
  },
  "language_info": {
   "codemirror_mode": {
    "name": "ipython",
    "version": 3
   },
   "file_extension": ".py",
   "mimetype": "text/x-python",
   "name": "python",
   "nbconvert_exporter": "python",
   "pygments_lexer": "ipython3",
   "version": "3.9.18"
  }
 },
 "nbformat": 4,
 "nbformat_minor": 5
}
