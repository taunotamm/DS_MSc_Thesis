{
 "cells": [
  {
   "cell_type": "markdown",
   "id": "092a4ac3-3bf9-4197-b6eb-5b1004b0b5bc",
   "metadata": {},
   "source": [
    "<h1>Võrdlus Eesti keele ühendkorpusega</h1>"
   ]
  },
  {
   "cell_type": "code",
   "execution_count": 2,
   "id": "56a8b35f-24d7-4629-b533-7aa2bde76e46",
   "metadata": {},
   "outputs": [],
   "source": [
    "# Lisame siia kõik vajalikud import'id\n",
    "import praw\n",
    "from datetime import datetime, time\n",
    "import math\n",
    "import json\n",
    "from estnltk.converters import json_to_text\n",
    "from datetime import datetime\n",
    "import matplotlib.pyplot as plt\n",
    "from wordcloud import WordCloud\n",
    "from estnltk import Text\n",
    "from sklearn.feature_extraction.text import CountVectorizer\n",
    "from sklearn.metrics.pairwise import cosine_distances\n",
    "import seaborn as sns\n",
    "import numpy as np\n",
    "from pandas import DataFrame"
   ]
  },
  {
   "cell_type": "markdown",
   "id": "e04fff60-79f2-42ff-9b90-f4e6e31f41ea",
   "metadata": {},
   "source": [
    "<h3>Postitused</h3>"
   ]
  },
  {
   "cell_type": "code",
   "execution_count": 38,
   "id": "576ba4b5-046d-4fb7-98f7-97012bf7c699",
   "metadata": {},
   "outputs": [],
   "source": [
    "import os, os.path\n",
    "from estnltk.converters import json_to_text\n",
    "\n",
    "with open(\"Eesti_submissions.json\", \"r\", encoding = 'utf-8') as file:\n",
    "    with open('output.json', 'w', encoding='utf-8') as output_file:\n",
    "        for line in file:\n",
    "            rida = json.loads(line)\n",
    "            #print(rida)\n",
    "            if \"_utc\" in rida:\n",
    "                rida[\"created_utc\"] = str(datetime.fromtimestamp(int(rida[\"_utc\"])))\n",
    "                del rida['_utc']\n",
    "            else:\n",
    "                rida[\"created_utc\"] = str(datetime.fromtimestamp(int(rida[\"created_utc\"])))\n",
    "                \n",
    "            if \"retrieved_on\" in rida:\n",
    "                rida[\"retrieved_on\"] = str(datetime.fromtimestamp(int(rida[\"retrieved_on\"])))\n",
    "            #print(rida)\n",
    "            \n",
    "            #############faili kirjutamine###########\n",
    "            json_string = json.dumps(rida, ensure_ascii=False)\n",
    "            output_file.write(json_string)\n",
    "            output_file.write('\\n')\n",
    "            ##########################################\n",
    "            "
   ]
  },
  {
   "cell_type": "code",
   "execution_count": 3,
   "id": "93616f45-3bf3-48e5-8975-c0f1bf6bc8f6",
   "metadata": {},
   "outputs": [],
   "source": [
    "created_at = []\n",
    "ids = []\n",
    "with open(\"output.json\", \"r\", encoding = 'utf-8') as file:\n",
    "    for line in file:\n",
    "        rida = json.loads(line)\n",
    "        created_at.append(rida['created_utc'])\n",
    "        ids.append(rida[\"id\"])\n"
   ]
  },
  {
   "cell_type": "code",
   "execution_count": 4,
   "id": "669be71b-016f-46e0-8ae6-161fdbde41e3",
   "metadata": {},
   "outputs": [
    {
     "name": "stdout",
     "output_type": "stream",
     "text": [
      "44118\n",
      "['2010-01-06 20:18:47', '2010-02-15 11:27:38']\n"
     ]
    },
    {
     "data": {
      "image/png": "[encoded data removed]",
      "text/plain": [
       "<Figure size 640x480 with 1 Axes>"
      ]
     },
     "metadata": {},
     "output_type": "display_data"
    }
   ],
   "source": [
    "print(len(created_at))\n",
    "print(created_at[:2])\n",
    "dates = [datetime.strptime(date, '%Y-%m-%d %H:%M:%S') for date in created_at]\n",
    "\n",
    "sorted_dates = sorted(dates)\n",
    "\n",
    "plt.hist(sorted_dates, bins=100, edgecolor='black')\n",
    "plt.xlabel('Aeg')\n",
    "plt.ylabel('Sageuds')\n",
    "plt.title('Postituste ajaline jaotus')\n",
    "plt.xticks(rotation=45)\n",
    "plt.tight_layout()\n",
    "plt.show()"
   ]
  },
  {
   "cell_type": "markdown",
   "id": "c29dc22e-7861-4c5e-b466-7d78e41fb67f",
   "metadata": {},
   "source": [
    "<h3>Kommentaarid</h3>"
   ]
  },
  {
   "cell_type": "code",
   "execution_count": 5,
   "id": "52e574c7-f020-473c-aa5e-1896dd3d6139",
   "metadata": {},
   "outputs": [],
   "source": [
    "import os, os.path\n",
    "from estnltk.converters import json_to_text\n",
    "\n",
    "with open(\"Eesti_comments.json\", \"r\", encoding = 'utf-8') as file:\n",
    "    with open('comments_output.json', 'w', encoding='utf-8') as output_file:\n",
    "        for line in file:\n",
    "            rida = json.loads(line)\n",
    "            #print(rida)\n",
    "\n",
    "            if \"_utc\" in rida:\n",
    "                rida[\"created_utc\"] = str(datetime.fromtimestamp(int(rida[\"_utc\"])))\n",
    "                del rida['_utc']\n",
    "            else:\n",
    "                rida[\"created_utc\"] = str(datetime.fromtimestamp(int(rida[\"created_utc\"])))\n",
    "                \n",
    "            if \"retrieved_on\" in rida:\n",
    "                rida[\"retrieved_on\"] = str(datetime.fromtimestamp(int(rida[\"retrieved_on\"])))\n",
    "            #print(rida)\n",
    "            if 'author_created_utc' in rida:\n",
    "                if rida[\"author_created_utc\"] is not None:\n",
    "                    rida[\"author_created_utc\"] = str(datetime.fromtimestamp(int(rida[\"author_created_utc\"])))\n",
    "            \n",
    "            \n",
    "            #############faili kirjutamine###########\n",
    "            json_string = json.dumps(rida, ensure_ascii=False)\n",
    "            output_file.write(json_string)\n",
    "            output_file.write('\\n')\n",
    "            ##########################################\n",
    "            "
   ]
  },
  {
   "cell_type": "code",
   "execution_count": 4,
   "id": "54757ec3-e122-434e-a63c-1822041a6454",
   "metadata": {},
   "outputs": [],
   "source": [
    "com_created_at = []\n",
    "com_ids = []\n",
    "with open(\"comments_output.json\", \"r\", encoding = 'utf-8') as file:\n",
    "    for line in file:\n",
    "        rida = json.loads(line)\n",
    "        com_created_at.append(rida['created_utc'])\n",
    "        com_ids.append(rida[\"id\"])"
   ]
  },
  {
   "cell_type": "code",
   "execution_count": 8,
   "id": "360ed4e3-3da4-49ab-8595-9179f4a46790",
   "metadata": {},
   "outputs": [
    {
     "name": "stdout",
     "output_type": "stream",
     "text": [
      "679562\n",
      "['2010-01-08 02:20:21', '2010-02-17 13:58:20']\n"
     ]
    },
    {
     "data": {
      "image/png": "[encoded data removed]",
      "text/plain": [
       "<Figure size 640x480 with 1 Axes>"
      ]
     },
     "metadata": {},
     "output_type": "display_data"
    }
   ],
   "source": [
    "print(len(com_created_at))\n",
    "print(com_created_at[:2])\n",
    "dates_com = [datetime.strptime(date, '%Y-%m-%d %H:%M:%S') for date in com_created_at]\n",
    "\n",
    "sorted_dates_com = sorted(dates_com)\n",
    "\n",
    "plt.hist(sorted_dates_com, bins=100, edgecolor='black')\n",
    "plt.xlabel('Aeg')\n",
    "plt.ylabel('Sageuds')\n",
    "plt.title('Kommentaaride ajaline jaotus')\n",
    "plt.xticks(rotation=45)\n",
    "plt.tight_layout()\n",
    "plt.show()"
   ]
  },
  {
   "cell_type": "code",
   "execution_count": 12,
   "id": "56a895a8-b417-496e-bfde-b546bb0fa5d2",
   "metadata": {},
   "outputs": [
    {
     "data": {
      "image/png": "[encoded data removed]",
      "text/plain": [
       "<Figure size 640x480 with 1 Axes>"
      ]
     },
     "metadata": {},
     "output_type": "display_data"
    }
   ],
   "source": [
    "### PANEN POSTITUSED JA KOMMENTAARID SAMALE JOONISELE\n",
    "plt.hist(sorted_dates, bins=100, edgecolor='black', label=\"postitused\", alpha=0.5)\n",
    "plt.hist(sorted_dates_com, bins=100, edgecolor='black', label=\"kommentaarid\", alpha=0.5)\n",
    "plt.xlabel('Aeg')\n",
    "plt.ylabel('Sageuds')\n",
    "plt.title('Kommentaaride ja postituste ajaline jaotus')\n",
    "plt.xticks(rotation=45)\n",
    "plt.tight_layout()\n",
    "plt.legend(loc='upper right')\n",
    "plt.show()"
   ]
  },
  {
   "cell_type": "code",
   "execution_count": 9,
   "id": "3f030aa6-b2be-479e-814b-63fb79584950",
   "metadata": {},
   "outputs": [
    {
     "name": "stdout",
     "output_type": "stream",
     "text": [
      "kommentaare ühendkorpuses: 0\n",
      "ühtivaid kommentaare: 0\n",
      "postitusi ühendkorpuses: 0\n",
      "ühtivaid postitusi: 0\n"
     ]
    }
   ],
   "source": [
    "comments = 0\n",
    "comments_in_both = 0\n",
    "posts = 0\n",
    "posts_in_both = 0\n",
    "com_ids = set(com_ids)\n",
    "ids = set(ids)\n",
    "\n",
    "with open(\"ühendkorpus/nc19_Web_2013.prevert\", \"r\", encoding = 'utf-8') as file:\n",
    "        for line in file:\n",
    "            if \"reddit.com/r/Eesti/\" in line:\n",
    "                if \"reddit.com/r/Eesti/comments\" in line:\n",
    "                    comments += 1\n",
    "                    for id in com_ids:\n",
    "                        if id in line:\n",
    "                            comments_in_both += 1\n",
    "                else:\n",
    "                    posts += 1\n",
    "                    for id in ids:\n",
    "                        if id in line:\n",
    "                            posts_in_both += 1\n",
    "                            \n",
    "print(\"kommentaare ühendkorpuses:\", comments)\n",
    "print(\"ühtivaid kommentaare:\", comments_in_both)\n",
    "print(\"postitusi ühendkorpuses:\", posts)\n",
    "print(\"ühtivaid postitusi:\", posts_in_both)"
   ]
  },
  {
   "cell_type": "code",
   "execution_count": 107,
   "id": "29f853d9-a90a-4f0a-baae-82d33cae0d99",
   "metadata": {},
   "outputs": [
    {
     "name": "stdout",
     "output_type": "stream",
     "text": [
      "kommentaare ühendkorpuses: 0\n",
      "ühtivaid kommentaare: 0\n",
      "postitusi ühendkorpuses: 0\n",
      "ühtivaid postitusi: 0\n"
     ]
    }
   ],
   "source": [
    "comments = 0\n",
    "comments_in_both = 0\n",
    "posts = 0\n",
    "posts_in_both = 0\n",
    "com_ids = set(com_ids)\n",
    "ids = set(ids)\n",
    "\n",
    "\n",
    "with open(\"data/nc19_Web_2017.prevert\", \"r\", encoding = 'utf-8') as file:\n",
    "        for line in file:\n",
    "            if \"reddit.com/r/Eesti/\" in line:\n",
    "                if \"reddit.com/r/Eesti/comments\" in line:\n",
    "                    comments += 1\n",
    "                    for id in com_ids:\n",
    "                        if id in line:\n",
    "                            comments_in_both += 1\n",
    "                else:\n",
    "                    posts += 1\n",
    "                    for id in ids:\n",
    "                        if id in line:\n",
    "                            posts_in_both += 1\n",
    "                            \n",
    "print(\"kommentaare ühendkorpuses:\", comments)\n",
    "print(\"ühtivaid kommentaare:\", comments_in_both)\n",
    "print(\"postitusi ühendkorpuses:\", posts)\n",
    "print(\"ühtivaid postitusi:\", posts_in_both)"
   ]
  },
  {
   "cell_type": "markdown",
   "id": "0aa3b557-6bfd-4978-a0ef-f8f6543322c4",
   "metadata": {},
   "source": [
    "<h3>Uurime palju on eesti keele ühendkorpuse versioonides samu postitusi ja kommentaare, mis meie andmestikuski</h3>"
   ]
  },
  {
   "cell_type": "code",
   "execution_count": 18,
   "id": "046277ed-e302-4f79-8b45-7272b93c31a4",
   "metadata": {},
   "outputs": [
    {
     "name": "stdout",
     "output_type": "stream",
     "text": [
      "ühtivaid kommentaare: 0\n",
      "ühtivaid postitusi: 0\n"
     ]
    }
   ],
   "source": [
    "comments = 0\n",
    "comments_in_both = 0\n",
    "posts = 0\n",
    "posts_in_both = 0\n",
    "com_ids = set(com_ids)\n",
    "ids = set(ids)\n",
    "\n",
    "\n",
    "with open(\"ühendkorpus/nc19_Web_2013.prevert\", \"r\", encoding = 'utf-8') as file:\n",
    "        for line in file:\n",
    "            if \"reddit.com/r/Eesti/comments\" in line:\n",
    "                    #print(line)\n",
    "                    comments += 1\n",
    "                    for id in com_ids:\n",
    "                        if id in line:\n",
    "                            comments_in_both += 1\n",
    "                    for id in ids:\n",
    "                        if id in line:\n",
    "                            posts_in_both += 1\n",
    "                            \n",
    "print(\"ühtivaid kommentaare:\", comments_in_both)\n",
    "print(\"ühtivaid postitusi:\", posts_in_both)"
   ]
  },
  {
   "cell_type": "code",
   "execution_count": 17,
   "id": "d9a93cd2-0bcd-4778-9f3d-b87a81fed9c8",
   "metadata": {},
   "outputs": [
    {
     "name": "stdout",
     "output_type": "stream",
     "text": [
      "ühtivaid kommentaare: 0\n",
      "ühtivaid postitusi: 0\n"
     ]
    }
   ],
   "source": [
    "comments = 0\n",
    "comments_in_both = 0\n",
    "posts = 0\n",
    "posts_in_both = 0\n",
    "com_ids = set(com_ids)\n",
    "ids = set(ids)\n",
    "\n",
    "\n",
    "with open(\"ühendkorpus/nc19_Web_2017.prevert\", \"r\", encoding = 'utf-8') as file:\n",
    "        for line in file:\n",
    "            if \"reddit.com/r/Eesti/comments\" in line:\n",
    "                    #print(line)\n",
    "                    comments += 1\n",
    "                    for id in com_ids:\n",
    "                        if id in line:\n",
    "                            comments_in_both += 1\n",
    "                    for id in ids: \n",
    "                        if id in line:\n",
    "                            posts_in_both += 1\n",
    "                            \n",
    "\n",
    "print(\"ühtivaid kommentaare:\", comments_in_both)\n",
    "print(\"ühtivaid postitusi:\", posts_in_both)"
   ]
  },
  {
   "cell_type": "code",
   "execution_count": 12,
   "id": "f3a9b73c-ae01-4806-91e8-5b97fcc8b575",
   "metadata": {},
   "outputs": [
    {
     "name": "stdout",
     "output_type": "stream",
     "text": [
      "ühtivaid kommentaare: 1056\n",
      "ühtivaid postitusi: 1480\n"
     ]
    }
   ],
   "source": [
    "comments = 0\n",
    "comments_in_both = 0\n",
    "posts = 0\n",
    "posts_in_both = 0\n",
    "com_ids = set(com_ids)\n",
    "ids = set(ids)\n",
    "\n",
    "\n",
    "with open(\"ühendkorpus/nc19_Web_2019.prevert\", \"r\", encoding = 'utf-8') as file:\n",
    "        for line in file:\n",
    "            if \"reddit.com/r/Eesti/comments\" in line:\n",
    "                    #print(line)\n",
    "                    comments += 1\n",
    "                    for id in com_ids:\n",
    "                        if id in line:\n",
    "                            comments_in_both += 1\n",
    "                    for id in ids:\n",
    "                        if id in line:\n",
    "                            posts_in_both += 1\n",
    "\n",
    "                            \n",
    "print(\"ühtivaid kommentaare:\", comments_in_both)\n",
    "print(\"ühtivaid postitusi:\", posts_in_both)"
   ]
  },
  {
   "cell_type": "code",
   "execution_count": 16,
   "id": "b9226aef-7404-481a-a0ec-7301f8cdd94e",
   "metadata": {},
   "outputs": [
    {
     "name": "stdout",
     "output_type": "stream",
     "text": [
      "ühtivaid kommentaare: 225\n",
      "ühtivaid postitusi: 470\n"
     ]
    }
   ],
   "source": [
    "comments = 0\n",
    "comments_in_both = 0\n",
    "posts = 0\n",
    "posts_in_both = 0\n",
    "com_ids = set(com_ids)\n",
    "ids = set(ids)\n",
    "\n",
    "\n",
    "with open(\"ühendkorpus/nc21_Web_2021.prevert\", \"r\", encoding = 'utf-8') as file:\n",
    "        for line in file:\n",
    "            if \"reddit.com/r/Eesti/comments\" in line:\n",
    "                    #print(line)\n",
    "                    comments += 1\n",
    "                    for id in com_ids:\n",
    "                        if id in line:\n",
    "                            comments_in_both += 1\n",
    "                    for id in ids:\n",
    "                        if id in line:\n",
    "                            posts_in_both += 1\n",
    "\n",
    "                            \n",
    "print(\"ühtivaid kommentaare:\", comments_in_both)\n",
    "print(\"ühtivaid postitusi:\", posts_in_both)"
   ]
  },
  {
   "cell_type": "code",
   "execution_count": 95,
   "id": "3dc6442f-568d-4457-a04e-16cc989565e3",
   "metadata": {},
   "outputs": [
    {
     "data": {
      "text/plain": [
       "679562"
      ]
     },
     "execution_count": 95,
     "metadata": {},
     "output_type": "execute_result"
    }
   ],
   "source": [
    "len(com_ids)"
   ]
  }
 ],
 "metadata": {
  "kernelspec": {
   "display_name": "Python 3 (ipykernel)",
   "language": "python",
   "name": "python3"
  },
  "language_info": {
   "codemirror_mode": {
    "name": "ipython",
    "version": 3
   },
   "file_extension": ".py",
   "mimetype": "text/x-python",
   "name": "python",
   "nbconvert_exporter": "python",
   "pygments_lexer": "ipython3",
   "version": "3.9.18"
  }
 },
 "nbformat": 4,
 "nbformat_minor": 5
}
