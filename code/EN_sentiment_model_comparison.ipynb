{
 "cells": [
  {
   "cell_type": "markdown",
   "id": "ba036105-a84a-4ce6-8af3-928b61cdab92",
   "metadata": {},
   "source": [
    "<h1>Tundmusanalüüs</h1>"
   ]
  },
  {
   "cell_type": "markdown",
   "id": "fbca1c39-cb53-47f8-9aa1-2ce383e309c6",
   "metadata": {},
   "source": [
    "<h3>Vajalikud <i>import</i>-id</h3>"
   ]
  },
  {
   "cell_type": "code",
   "execution_count": 75,
   "id": "7960a83c-8beb-4627-822c-7367eea37f55",
   "metadata": {},
   "outputs": [],
   "source": [
    "import nltk\n",
    "import os, os.path\n",
    "import json\n",
    "import re\n",
    "import matplotlib.pyplot as plt\n",
    "import pandas as pd\n",
    "import random\n",
    "\n",
    "from tqdm import tqdm\n",
    "from collections import Counter\n",
    "from nltk.sentiment.vader import SentimentIntensityAnalyzer as SIA\n",
    "from transformers import pipeline, AutoTokenizer, AutoModelForSequenceClassification"
   ]
  },
  {
   "cell_type": "code",
   "execution_count": 11,
   "id": "707bde32-e74c-49c1-ab0e-e2c76ef91366",
   "metadata": {},
   "outputs": [
    {
     "name": "stderr",
     "output_type": "stream",
     "text": [
      "[nltk_data] Downloading package vader_lexicon to\n",
      "[nltk_data]     C:\\Users\\taunotam\\AppData\\Roaming\\nltk_data...\n",
      "[nltk_data]   Package vader_lexicon is already up-to-date!\n"
     ]
    },
    {
     "data": {
      "text/plain": [
       "True"
      ]
     },
     "execution_count": 11,
     "metadata": {},
     "output_type": "execute_result"
    }
   ],
   "source": [
    "nltk.download('vader_lexicon')"
   ]
  },
  {
   "cell_type": "markdown",
   "id": "efb6ab65-f7f1-4c31-a7d1-cc0cffb50740",
   "metadata": {},
   "source": [
    "<h3>Loeme andmed sisse</h3>"
   ]
  },
  {
   "cell_type": "code",
   "execution_count": 12,
   "id": "48ac402a-1296-458d-b3f3-1402571b8f79",
   "metadata": {},
   "outputs": [],
   "source": [
    "path = 'data_lang/'\n",
    "data = []\n",
    "\n",
    "for file in os.listdir(path):\n",
    "    filename = os.path.join(path, file)\n",
    "    with open(filename, \"r\", encoding = 'utf-8') as fin:\n",
    "        data.append(json.loads(fin.read()))"
   ]
  },
  {
   "cell_type": "code",
   "execution_count": 13,
   "id": "bcc690c4-71a1-48bb-9f63-05aced889389",
   "metadata": {},
   "outputs": [
    {
     "data": {
      "text/plain": [
       "44099"
      ]
     },
     "execution_count": 13,
     "metadata": {},
     "output_type": "execute_result"
    }
   ],
   "source": [
    "len(data)"
   ]
  },
  {
   "cell_type": "markdown",
   "id": "ac79482f-c6e3-4291-9aa2-0deeba0cb6be",
   "metadata": {},
   "source": [
    "<h3>Tundmusanalüüs - EN - kasutades VADER-it</h3>"
   ]
  },
  {
   "cell_type": "code",
   "execution_count": 65,
   "id": "38ebf497-78e3-4c29-8db7-612f44339275",
   "metadata": {},
   "outputs": [],
   "source": [
    "texts_en = dict()\n",
    "\n",
    "for post in data:\n",
    "    if \"lang\" in post[\"meta\"].keys():\n",
    "        lang = post[\"meta\"][\"lang\"]\n",
    "\n",
    "        if lang == \"EN\":\n",
    "            text = post[\"meta\"][\"title\"] + \" \" + post[\"text\"]\n",
    "            text = text.replace('[deleted]', '')\n",
    "            text = text.replace('[deleted by user]', '')\n",
    "            text = text.replace('[removed]', '')\n",
    "            text = text.replace('[ Removed by Reddit ]', '')\n",
    "            text = text.replace('\\n', '')\n",
    "            text = re.sub(r'\\w+:\\/{2}[\\d\\w-]+(\\.[\\d\\w-]+)*(?:(?:\\/[^\\s/]*))*', '', text)\n",
    "\n",
    "            texts_en[post[\"meta\"][\"created_utc\"]] = text"
   ]
  },
  {
   "cell_type": "code",
   "execution_count": 67,
   "id": "f77fd8f5-b817-4f69-9f24-1646c3c7696e",
   "metadata": {},
   "outputs": [],
   "source": [
    "sentiment_sia_en = []\n",
    "sentiment_sia_en_texts = []\n",
    "for text in texts_en.values():\n",
    "    sisu = text.replace('\\n', '')\n",
    "    if sisu != '' and sisu != ' ' and sisu != '[deleted]' and sisu != '[removed]':\n",
    "        sentiment_sia_en_texts.append(sisu)\n",
    "        analysis = SIA().polarity_scores(sisu)\n",
    "        if analysis['compound'] > 0:\n",
    "            sentiment_sia_en.append('LABEL_2')\n",
    "        elif analysis['compound'] == 0:\n",
    "            sentiment_sia_en.append('LABEL_1')\n",
    "        else:\n",
    "            sentiment_sia_en.append('LABEL_0')"
   ]
  },
  {
   "cell_type": "code",
   "execution_count": 68,
   "id": "931266e9-8e3c-41f8-a124-b073841b0dc0",
   "metadata": {},
   "outputs": [
    {
     "data": {
      "image/png": "[encoded data removed]",
      "text/plain": [
       "<Figure size 640x480 with 1 Axes>"
      ]
     },
     "metadata": {},
     "output_type": "display_data"
    }
   ],
   "source": [
    "counts = Counter(sentiment_sia_en)\n",
    "\n",
    "categories = list(counts.keys())\n",
    "counts_values = list(counts.values())\n",
    "\n",
    "sorted_categories = sorted(categories)\n",
    "sorted_counts_values = [counts[cat] for cat in sorted_categories]\n",
    "\n",
    "plt.bar(sorted_categories, sorted_counts_values)\n",
    "\n",
    "plt.xlabel('Labels')\n",
    "plt.ylabel('Counts')\n",
    "\n",
    "plt.xticks(rotation=45)\n",
    "plt.tight_layout()\n",
    "plt.show()"
   ]
  },
  {
   "cell_type": "code",
   "execution_count": 23,
   "id": "d2cbc337-15a3-419f-8a32-21880cbcf443",
   "metadata": {},
   "outputs": [],
   "source": [
    "stacked_dict_sentiment = dict()\n",
    "stacked_dict_sentiment[\"label\"] = []\n",
    "stacked_dict_sentiment[\"year\"] = []\n",
    "\n",
    "texts_en_ajad = list(texts_en.keys())\n",
    "\n",
    "for i in range(len(sentiment_sia_en)):\n",
    "    label = sentiment_sia_en[i]\n",
    "    if texts_et_ajad[i][:4] != \"2023\":\n",
    "        stacked_dict_sentiment[\"label\"].append(label)\n",
    "        stacked_dict_sentiment[\"year\"].append(texts_en_ajad[i][:4])"
   ]
  },
  {
   "cell_type": "code",
   "execution_count": 24,
   "id": "cbfdc7f5-6b7f-412e-bd6a-56276cd060ce",
   "metadata": {},
   "outputs": [],
   "source": [
    "cross_tab_prop = pd.crosstab(index=stacked_dict_sentiment['year'],\n",
    "                             columns=stacked_dict_sentiment[\"label\"],\n",
    "                             normalize=\"index\")"
   ]
  },
  {
   "cell_type": "code",
   "execution_count": 25,
   "id": "1911bd69-115d-46f2-94c4-8f464b5e71db",
   "metadata": {},
   "outputs": [
    {
     "data": {
      "image/png": "[encoded data removed]",
      "text/plain": [
       "<Figure size 1000x600 with 1 Axes>"
      ]
     },
     "metadata": {},
     "output_type": "display_data"
    }
   ],
   "source": [
    "cross_tab_prop.plot(kind='bar', \n",
    "                    stacked=True, \n",
    "                    colormap='tab10', \n",
    "                    figsize=(10, 6))\n",
    "\n",
    "plt.legend(loc=\"upper left\", ncol=2)\n",
    "plt.xlabel(\"Aasta\")\n",
    "plt.ylabel(\"Proportsioon\")\n",
    "plt.title(\"Tundmuste proportsioon inglisekeelsel tekstil läbi aastate\")\n",
    "plt.show()"
   ]
  },
  {
   "cell_type": "markdown",
   "id": "f6b18c96-4d8c-4de9-982b-c3bdc873bb25",
   "metadata": {},
   "source": [
    "<h3>Proovime inglisekeelset roberta mudelit</h3>"
   ]
  },
  {
   "cell_type": "code",
   "execution_count": 29,
   "id": "2e0ac72e-bdb1-406b-90c4-9be8e4498b37",
   "metadata": {},
   "outputs": [
    {
     "name": "stdout",
     "output_type": "stream",
     "text": [
      "Collecting emoji==0.6.0\n",
      "  Downloading emoji-0.6.0.tar.gz (51 kB)\n",
      "     ---------------------------------------- 0.0/51.0 kB ? eta -:--:--\n",
      "     ---------------- ----------------------- 20.5/51.0 kB ? eta -:--:--\n",
      "     ------------------------------ ------- 41.0/51.0 kB 393.8 kB/s eta 0:00:01\n",
      "     -------------------------------------- 51.0/51.0 kB 374.0 kB/s eta 0:00:00\n",
      "  Preparing metadata (setup.py): started\n",
      "  Preparing metadata (setup.py): finished with status 'done'\n",
      "Building wheels for collected packages: emoji\n",
      "  Building wheel for emoji (setup.py): started\n",
      "  Building wheel for emoji (setup.py): finished with status 'done'\n",
      "  Created wheel for emoji: filename=emoji-0.6.0-py3-none-any.whl size=49745 sha256=00e17322178d5dc93088db73a85df35c6fe882d554302c7a21af4d2274a03e82\n",
      "  Stored in directory: c:\\users\\taunotam\\appdata\\local\\pip\\cache\\wheels\\70\\2a\\7f\\1a0012c86b1061c6ee2ed9568b1f830f857a51e8e416452af2\n",
      "Successfully built emoji\n",
      "Installing collected packages: emoji\n",
      "Successfully installed emoji-0.6.0\n"
     ]
    }
   ],
   "source": [
    "!pip install emoji==0.6.0"
   ]
  },
  {
   "cell_type": "code",
   "execution_count": 41,
   "id": "2ae83496-54c4-4f39-823e-ad20bf6d552b",
   "metadata": {},
   "outputs": [
    {
     "data": {
      "text/plain": [
       "512"
      ]
     },
     "execution_count": 41,
     "metadata": {},
     "output_type": "execute_result"
    }
   ],
   "source": [
    "len(\"Taxis in Estonia… I'm Canadian, and was in Estonia a few years ago. I have some Estonian friends. But none of the Estonians I have asked have been able to answer this question for me, and I've had it for years. Estonia is a small country, so *can an Estonian taxi driver drive you anywhere in Estonia*? Can you name any address in any town in Estonia and be driven there by cab? I don't know why I want to know this so badly, but I'm really curious. Thank you!Yes, I should have asked a cab driver while I was th\")"
   ]
  },
  {
   "cell_type": "code",
   "execution_count": 45,
   "id": "dfc7116b-ad31-4963-98db-8d5bfa46f417",
   "metadata": {},
   "outputs": [],
   "source": [
    "import math"
   ]
  },
  {
   "cell_type": "code",
   "execution_count": 95,
   "id": "68650726-13cb-408f-8796-190ac355bd45",
   "metadata": {},
   "outputs": [
    {
     "name": "stderr",
     "output_type": "stream",
     "text": [
      "Some weights of the model checkpoint at cardiffnlp/twitter-roberta-base-sentiment-latest were not used when initializing RobertaForSequenceClassification: ['roberta.pooler.dense.bias', 'roberta.pooler.dense.weight']\n",
      "- This IS expected if you are initializing RobertaForSequenceClassification from the checkpoint of a model trained on another task or with another architecture (e.g. initializing a BertForSequenceClassification model from a BertForPreTraining model).\n",
      "- This IS NOT expected if you are initializing RobertaForSequenceClassification from the checkpoint of a model that you expect to be exactly identical (initializing a BertForSequenceClassification model from a BertForSequenceClassification model).\n"
     ]
    }
   ],
   "source": [
    "tokenizer = AutoTokenizer.from_pretrained(\"cardiffnlp/twitter-roberta-base-sentiment-latest\")\n",
    "model = AutoModelForSequenceClassification.from_pretrained(\"cardiffnlp/twitter-roberta-base-sentiment-latest\")\n",
    "\n",
    "max_length = 511\n",
    "tokenizer.model_max_length = max_length\n",
    "\n",
    "sentiment_analysis = pipeline(task=\"sentiment-analysis\", model=model, tokenizer=tokenizer)\n",
    "\n",
    "sentiment_en = []\n",
    "\n",
    "for text in texts_en.values():\n",
    "    sisu = text.replace('\\n', '')\n",
    "    if sisu != '' and sisu != ' ' and sisu != '[deleted]' and sisu != '[removed]':\n",
    "        len_sisu = len(sisu)\n",
    "        if len_sisu > max_length:\n",
    "            labels = []\n",
    "            count = 0\n",
    "            x_times = math.floor(len_sisu/max_length)\n",
    "            for times in range(x_times):\n",
    "                #print(len(sisu[count:max_length]))\n",
    "                labels.append(sentiment_analysis(sisu[count:max_length])[0]['label'])\n",
    "                count += max_length\n",
    "                \n",
    "            labels.append(sentiment_analysis(sisu[count:len_sisu])[0]['label'])\n",
    "\n",
    "            c = Counter(labels)\n",
    "            result = c.most_common(1)[0][0]\n",
    "\n",
    "        else:\n",
    "            sisu = sisu[:max_length]\n",
    "            #print(sisu)\n",
    "            result = sentiment_analysis(sisu)[0]['label']\n",
    "\n",
    "        #print()\n",
    "        sentiment_en.append(result)"
   ]
  },
  {
   "cell_type": "code",
   "execution_count": 55,
   "id": "28b93d1e-3773-48e8-a658-74291a346f47",
   "metadata": {},
   "outputs": [],
   "source": [
    "#tokenizer = AutoTokenizer.from_pretrained(\"finiteautomata/bertweet-base-sentiment-analysis\")\n",
    "#model = AutoModelForSequenceClassification.from_pretrained(\"finiteautomata/bertweet-base-sentiment-analysis\")"
   ]
  },
  {
   "cell_type": "code",
   "execution_count": 96,
   "id": "ad7a7e9c-4a55-4f9a-80eb-c819ee84cdc5",
   "metadata": {},
   "outputs": [
    {
     "data": {
      "image/png": "[encoded data removed]",
      "text/plain": [
       "<Figure size 640x480 with 1 Axes>"
      ]
     },
     "metadata": {},
     "output_type": "display_data"
    }
   ],
   "source": [
    "counts = Counter(sentiment_en)\n",
    "\n",
    "categories = list(counts.keys())\n",
    "counts_values = list(counts.values())\n",
    "\n",
    "sorted_categories = sorted(categories)\n",
    "sorted_counts_values = [counts[cat] for cat in sorted_categories]\n",
    "\n",
    "# Create bar plot with sorted categories and counts_values\n",
    "plt.bar(sorted_categories, sorted_counts_values)\n",
    "\n",
    "plt.xlabel('Labels')\n",
    "plt.ylabel('Counts')\n",
    "\n",
    "plt.xticks(rotation=45)\n",
    "plt.tight_layout()\n",
    "plt.show()"
   ]
  },
  {
   "cell_type": "markdown",
   "id": "f930b905-8fb9-41f0-8744-b7d6af79943e",
   "metadata": {},
   "source": [
    "<h3>Selgitame manuaalse vaatamise põhjal välja, kumb sobib meile rohkem, kas VADER või BERTweet</h3>"
   ]
  },
  {
   "cell_type": "code",
   "execution_count": 97,
   "id": "223743ce-9bc1-4648-a3fd-3d1517e4cd6b",
   "metadata": {},
   "outputs": [
    {
     "name": "stdout",
     "output_type": "stream",
     "text": [
      "6513\n",
      "6513\n"
     ]
    }
   ],
   "source": [
    "#sentiment_sia_en - see on VADER'i labelite list\n",
    "#sentiment_en - see on BERTweet'i labelite list\n",
    "\n",
    "print(len(sentiment_sia_en))\n",
    "print(len(sentiment_en))"
   ]
  },
  {
   "cell_type": "code",
   "execution_count": 106,
   "id": "9cfec096-d2b2-4cf9-b0ad-5c5f8c36d285",
   "metadata": {},
   "outputs": [],
   "source": [
    "sentiment_sia_en_replaced = sentiment_sia_en.copy()"
   ]
  },
  {
   "cell_type": "code",
   "execution_count": 98,
   "id": "5a35219d-26e2-4b2b-b2f1-40a95198baa9",
   "metadata": {},
   "outputs": [
    {
     "data": {
      "text/plain": [
       "6513"
      ]
     },
     "execution_count": 98,
     "metadata": {},
     "output_type": "execute_result"
    }
   ],
   "source": [
    "len(sentiment_sia_en_texts)"
   ]
  },
  {
   "cell_type": "code",
   "execution_count": 107,
   "id": "3b606628-0604-4719-8389-af9f21e25562",
   "metadata": {},
   "outputs": [],
   "source": [
    "replacements = {'LABEL_0': 'negative', 'LABEL_1': 'neutral', 'LABEL_2': 'positive'}  # Define your replacements\n",
    "\n",
    "sentiment_sia_en_replaced = [replacements.get(x, x) for x in sentiment_sia_en]"
   ]
  },
  {
   "cell_type": "code",
   "execution_count": 111,
   "id": "cc8ac10b-fade-45fb-b1ea-445c7381d9a4",
   "metadata": {},
   "outputs": [],
   "source": [
    "en_texts = texts_en.values()\n",
    "mismatch_id = []\n",
    "\n",
    "for i in range(len(sentiment_sia_en_texts)):\n",
    "    VADER = sentiment_sia_en_replaced[i]\n",
    "    BERT = sentiment_en[i]\n",
    "    if BERT != VADER:\n",
    "        mismatch_id.append(i)"
   ]
  },
  {
   "cell_type": "code",
   "execution_count": 112,
   "id": "3ed72b08-955c-4633-b8bb-a2c29cb3c2bd",
   "metadata": {},
   "outputs": [
    {
     "data": {
      "text/plain": [
       "3733"
      ]
     },
     "execution_count": 112,
     "metadata": {},
     "output_type": "execute_result"
    }
   ],
   "source": [
    "len(mismatch_id)"
   ]
  },
  {
   "cell_type": "code",
   "execution_count": 113,
   "id": "2545568f-e045-4c42-854f-fcc583fff276",
   "metadata": {},
   "outputs": [],
   "source": [
    "random_sample = random.sample(mismatch_id, 100)"
   ]
  },
  {
   "cell_type": "code",
   "execution_count": 115,
   "id": "e083b270-1de0-4a4f-9ba3-80b48038df92",
   "metadata": {
    "scrolled": true
   },
   "outputs": [
    {
     "name": "stdout",
     "output_type": "stream",
     "text": [
      "Text:\n",
      "DEFEND NET NEUTRALITY IN EUROPE | Your freedom online is threatened by an EU proposal  NET NEUTRALITY IN EUROPEYour freedom online is threatened by an EU proposal.The fight for the open internet is happening right now in Brussels.Edit: Someone could translate the message in Estonian, so that I/we can send it to MEP @kajakallas\n",
      "\n",
      "VADER: positive\n",
      "roBERTa: neutral\n"
     ]
    },
    {
     "name": "stdout",
     "output_type": "stream",
     "text": [
      " 3\n"
     ]
    },
    {
     "name": "stdout",
     "output_type": "stream",
     "text": [
      "\n",
      "Text:\n",
      "Question about smoking areas Hello. I am living in Tallinn and have a very bad habit of smoking, which I don't plan on quitting anytime soon. No one should smoke. Having said that, I am looking for comfortable places that are suitable for studying or working on my laptop that I also can smoke a cigarette without having to interrupt my work. Somewhere with coffee would be great. If anyone knows what I am talking about, could you give me some information?\n",
      "\n",
      "VADER: positive\n",
      "roBERTa: neutral\n"
     ]
    },
    {
     "name": "stdout",
     "output_type": "stream",
     "text": [
      " 2\n"
     ]
    },
    {
     "name": "stdout",
     "output_type": "stream",
     "text": [
      "\n",
      "Text:\n",
      "Roppused Hello,The last time I went to stand up in Botik, most of the performances were in Estonian. I can understand Estonian to some level, however, slangs (cum, let's fuck, dickblocker, or asshole) were my weak points. Couldn't enjoy some jokes, because when I learnt what some words meant, it was late. So I am here to learn some good slangs ( roppused) along with their translation, and some famous \"figures\" in Estonian story ( like Martin Helme) people. My only goal is at the moment from this post to improve my standup understanding skills.\n",
      "\n",
      "VADER: negative\n",
      "roBERTa: neutral\n"
     ]
    },
    {
     "name": "stdout",
     "output_type": "stream",
     "text": [
      " 2\n"
     ]
    },
    {
     "name": "stdout",
     "output_type": "stream",
     "text": [
      "\n",
      "Text:\n",
      "Share your unpopular opinion about Estonia(ns) In light of similar threads in other r/country subreddits, lets share UNPOPULAR opinions that you (foreigner or local) have about Estonia or its people.I'll bite:1) Kohuke is nothing special.\n",
      "\n",
      "VADER: positive\n",
      "roBERTa: neutral\n"
     ]
    },
    {
     "name": "stdout",
     "output_type": "stream",
     "text": [
      " 2\n"
     ]
    },
    {
     "name": "stdout",
     "output_type": "stream",
     "text": [
      "\n",
      "Text:\n",
      "Is it okay to go naked with your family in sauna in estonia when you become adult or is it only okay when you are kid? \n",
      "\n",
      "VADER: positive\n",
      "roBERTa: neutral\n"
     ]
    },
    {
     "name": "stdout",
     "output_type": "stream",
     "text": [
      " 2\n"
     ]
    },
    {
     "name": "stdout",
     "output_type": "stream",
     "text": [
      "\n",
      "Text:\n",
      "Which second hand shops... \n",
      "\n",
      "VADER: positive\n",
      "roBERTa: neutral\n"
     ]
    },
    {
     "name": "stdout",
     "output_type": "stream",
     "text": [
      " 2\n"
     ]
    },
    {
     "name": "stdout",
     "output_type": "stream",
     "text": [
      "\n",
      "Text:\n",
      "Let's talk about the no-go zones Recently, I've begun to notice that, when asked about the \"bad\" areas of the country (and Tallinn in particular), many people here would usually mention Lasnamäe / Ida-Virumaa as their first choice. The reasoning being that these areas are mostly Russian-speaking and the overall socio-economic situation there is not that great. While is mostly agree with the latter, it still got me thinking. Having lived in Lasnamäe for  most part of my life, I never really thought of it as a ghetto or anything like that. I mean I've been mugged once in the 90s by some druggies, but apart from that one incident, it generally felt pretty safe. At least, not really any more dangerous than places like Põhja-Tallinn, Männiku or even the outskirts of Mustamäe, for example. Although I must admit that things might look a bit different from my perspective (I'm Russian).So is there really a general consensus among Estonian people that these places are best avoided or am I just not getting something? And if so, is this something that you pick up from the media, friends, etc.? It just feels quite weird as if I've been living in a bubble this whole time and was completely unaware of some social dynamics that apparently existed around me this whole time.\n",
      "\n",
      "VADER: positive\n",
      "roBERTa: neutral\n"
     ]
    },
    {
     "name": "stdout",
     "output_type": "stream",
     "text": [
      " 2\n"
     ]
    },
    {
     "name": "stdout",
     "output_type": "stream",
     "text": [
      "\n",
      "Text:\n",
      "Recommend websites for job searching in Tallinn? I found a few trough Google, but not sure what you guys would recommend. Thanks in advance! \n",
      "\n",
      "VADER: positive\n",
      "roBERTa: neutral\n"
     ]
    },
    {
     "name": "stdout",
     "output_type": "stream",
     "text": [
      " 2\n"
     ]
    },
    {
     "name": "stdout",
     "output_type": "stream",
     "text": [
      "\n",
      "Text:\n",
      "Can someone who talks Estonian help me? Hello there. I have a 15 second video where i need to write what’s being told in it and the translation. Can someone give me a hand? Thanks.\n",
      "\n",
      "VADER: positive\n",
      "roBERTa: neutral\n"
     ]
    },
    {
     "name": "stdout",
     "output_type": "stream",
     "text": [
      " 2\n"
     ]
    },
    {
     "name": "stdout",
     "output_type": "stream",
     "text": [
      "\n",
      "Text:\n",
      "What do estonians perceive as attractive? Been wondering about that, I've heard that in the nordic countries in overall, dark haired/dark eyes people with not-so-dark complexions tend to take the spotlight?By dark complexions I mean Italian, Greek, Brazilian(southern south america), Portuguese and Mediterranean in overall.\n",
      "\n",
      "VADER: positive\n",
      "roBERTa: neutral\n"
     ]
    },
    {
     "name": "stdout",
     "output_type": "stream",
     "text": [
      " 2\n"
     ]
    },
    {
     "name": "stdout",
     "output_type": "stream",
     "text": [
      "\n",
      "Text:\n",
      "Good neighborhoods in Tallinn (again) I found a 3 years old [topic]( about it, and since it's quite old, I'm asking it again.I'm about to move to Tallinn next year and I'd like to know more about neighborhoods in Tallinn. I'll move with my girlfriend and we do like night life, pubs and etc. I'd like a recommendation of good places. Based on my research, I came with few options:* Uus Maailin* Kesklinn* Ilmarine* Vanalinn* Kadriorg* Kalamaja About rent price, 600EUR or 700EUR tops, but, of course, I'm looking for something cheaper. Thanks!\n",
      "\n",
      "VADER: positive\n",
      "roBERTa: neutral\n"
     ]
    },
    {
     "name": "stdout",
     "output_type": "stream",
     "text": [
      " 2\n"
     ]
    },
    {
     "name": "stdout",
     "output_type": "stream",
     "text": [
      "\n",
      "Text:\n",
      "Please help me validate an Estonian translation I do not speak any Estonian. I wrote this article (in English) a couple years ago: the years people have sent translations of my article, including an Estonian translation. However, it seems I wasn't skeptical enough and some of these translations are machine-translated gibberish. Is the [Estonian translation]( reasonable or is it gibberish?\n",
      "\n",
      "VADER: positive\n",
      "roBERTa: negative\n"
     ]
    },
    {
     "name": "stdout",
     "output_type": "stream",
     "text": [
      " 2\n"
     ]
    },
    {
     "name": "stdout",
     "output_type": "stream",
     "text": [
      "\n",
      "Text:\n",
      "NOA Chef's Hall Hi. Has anyone been to Noa, or Noa Chef's Hall? Would you recommend the experience? Any other comparable restaurants?\n",
      "\n",
      "VADER: positive\n",
      "roBERTa: neutral\n"
     ]
    },
    {
     "name": "stdout",
     "output_type": "stream",
     "text": [
      " 2\n"
     ]
    },
    {
     "name": "stdout",
     "output_type": "stream",
     "text": [
      "\n",
      "Text:\n",
      "Learning Estonian for studying reasons.   Hello,   I have been accepted in TTU. Looking at the Integrated Engineering course programme I would prefer to change my degree into something more focused on electrical engineering.   If I start learning Estonian right now, is it realistic to achieve an academic level in Estonian within a year?\n",
      "\n",
      "VADER: positive\n",
      "roBERTa: neutral\n"
     ]
    },
    {
     "name": "stdout",
     "output_type": "stream",
     "text": [
      " 2\n"
     ]
    },
    {
     "name": "stdout",
     "output_type": "stream",
     "text": [
      "\n",
      "Text:\n",
      "Need vhigh players 4 to make a temp team to enter a DOTA 2 Tournament at TTU/TUT August 16-18.  guys, I'm looking for 4 people to play with me at a tournament held at TTU/TUT. The entrance fee will be 16€ upon signup or 20 upon arrival. (I think it's per team? so it'll be 3.2 per person if we sign up early).Looking for: Smart captain (mostly for making in-game decisions)*Roles 1-3 and 4 or 5. I play 4 or 5.Requirements:   Very High Skill Bracket (you can even tell me your DBR if you have it) &amp; preferably over 400 wins    Friendly players - no ragers (I don't rage if there aren't any other ragers)  Must be able to pay the entrance fee  Must have a mic for VOIPAdd me on [Steam]( or PM me here.I'd like to practice sometime at night - after 6PM/18:00. edit: I fucked up the title. :( NEED 4 VHIGH PLAYERS TO MAKE A TEMP TEAM FOR THE DOTA 2 LAN TOURNEY AT TTU!*edit 2: TTU link \n",
      "\n",
      "VADER: positive\n",
      "roBERTa: neutral\n"
     ]
    },
    {
     "name": "stdout",
     "output_type": "stream",
     "text": [
      " 2\n"
     ]
    },
    {
     "name": "stdout",
     "output_type": "stream",
     "text": [
      "\n",
      "Text:\n",
      "Can someone please explain this Estonian song to me  not decipher the lyrics. Anyway, I heard it yesterday for the first time and it made me extremely thirsty.\n",
      "\n",
      "VADER: positive\n",
      "roBERTa: negative\n"
     ]
    },
    {
     "name": "stdout",
     "output_type": "stream",
     "text": [
      " 3\n"
     ]
    },
    {
     "name": "stdout",
     "output_type": "stream",
     "text": [
      "\n",
      "Text:\n",
      "Place to eat dinner on Christmas Eve? Hi. So as the title says I am looking for a place to eat dinner on Christmas Eve in Tallinn. Can someone recommend something? Thank you.\n",
      "\n",
      "VADER: positive\n",
      "roBERTa: neutral\n"
     ]
    },
    {
     "name": "stdout",
     "output_type": "stream",
     "text": [
      " 2\n"
     ]
    },
    {
     "name": "stdout",
     "output_type": "stream",
     "text": [
      "\n",
      "Text:\n",
      "Any advice for an American going to Tartu I am an American who be going to Tartu for some short term missions work in September. I was curious if anyone had anything interesting to advise about Tartu or Estonia in general? My family history is mainly from Estonia if you go back 4 generations or so, but I've never actually been. It will be interesting to see what it is like. I've heard everyone is quiet and has a dry sense of humor, so I should fit in rather well.Thanks.\n",
      "\n",
      "VADER: positive\n",
      "roBERTa: neutral\n"
     ]
    },
    {
     "name": "stdout",
     "output_type": "stream",
     "text": [
      " 1\n"
     ]
    },
    {
     "name": "stdout",
     "output_type": "stream",
     "text": [
      "\n",
      "Text:\n",
      "Any tips for a day trip? A friend of mine and I are coming to Estonia for couple of days and we reserved a car for a day. Are they any tips for a one day trip with a car? Something historical sites or something with a nice view? It would be nice to see other places than Tallinn (not that there is anything wrong with Tallinn).I did check the sticky post, but it seemed to have more what to do in Tallinn in a short time.\n",
      "\n",
      "VADER: positive\n",
      "roBERTa: neutral\n"
     ]
    },
    {
     "name": "stdout",
     "output_type": "stream",
     "text": [
      " 2\n"
     ]
    },
    {
     "name": "stdout",
     "output_type": "stream",
     "text": [
      "\n",
      "Text:\n",
      "I need your help - International research participation (Mater's thesis) \n",
      "\n",
      "VADER: positive\n",
      "roBERTa: neutral\n"
     ]
    },
    {
     "name": "stdout",
     "output_type": "stream",
     "text": [
      " 2\n"
     ]
    },
    {
     "name": "stdout",
     "output_type": "stream",
     "text": [
      "\n",
      "Text:\n",
      "Estonia vs Lithuania vs Latvia Hey guys!We are conducting a research to find out which of the 3 Baltic States youth (15 to 30) has better financial literacy and sustainability skills.    I CHALLENGE you to complete our survey and to find out for yourself how well did you do. It wil take you only about 5 to 8 minutes to complete it.  How about it? Are You up For the Challenge?! [  We are willing to share our results if we can manage to get the needed amount for the survey to represent the population.\n",
      "\n",
      "VADER: positive\n",
      "roBERTa: neutral\n"
     ]
    },
    {
     "name": "stdout",
     "output_type": "stream",
     "text": [
      " 2\n"
     ]
    },
    {
     "name": "stdout",
     "output_type": "stream",
     "text": [
      "\n",
      "Text:\n",
      "Selling alcohol in Estonia? Tere!I don't know really anything about Estonia's legal system so I thought you guys could assist me a bit. Love the country though, you have what we Finns call \"tekemisen meininki\", a positive attitude towards doing things, while we Finns have all-innovation-killing, tax-'n'-paperwork-loaded shithole of a system. Your tax system is praised by ALL companies that move there from here.So, as many of you may know, selling alcohol (especially beer) here in Finland is practically impossible if you don't have thousands of euros, nerves and luck to go through the permit circus. Estonia is - to me - a sane place when it comes to alcohol politics, so I'd like to know what kind of restrictions and taxes do I have to fill/ pay if I come and sell my own beer and wine in Tallinn?I heard about the Sunday rule which says no alcohol selling on Sundays, but all else is unknown to me.Thanks!\n",
      "\n",
      "VADER: positive\n",
      "roBERTa: neutral\n"
     ]
    },
    {
     "name": "stdout",
     "output_type": "stream",
     "text": [
      " 2\n"
     ]
    },
    {
     "name": "stdout",
     "output_type": "stream",
     "text": [
      "\n",
      "Text:\n",
      "Estonian version of \"Suomen muotoisen pilven alla\" by Arttu Wiskari A radio station in Finland played an Estonian version/cover of [\"Suomen muotoisen pilven alla\"]( by a Finnish artist Arttu Wiskari. Do you guys know what's the name of the Estonian version?I'm not proud I even have to ask this, but it's been in my head since this morning and I have to do something to get rid of this earworm.\n",
      "\n",
      "VADER: negative\n",
      "roBERTa: neutral\n"
     ]
    },
    {
     "name": "stdout",
     "output_type": "stream",
     "text": [
      " 2\n"
     ]
    },
    {
     "name": "stdout",
     "output_type": "stream",
     "text": [
      "\n",
      "Text:\n",
      "About Estonian society, especially in terms of hierarchy and behavior  [ have read an article abt Estonian culture from the link above and i want to ask you guys, how correct it is.For particularly in terms of hierarchy , they cite:* Estonia is a hierarchical society.* Age, experience and position earn respect.* Older people are generally viewed as wiser and as a result revered and honoured. Elders are introduced first and in general are treated much like royalty.* Those in senior positions bear the responsibility to make decisions in the interest of the group.* Due to seniority titles are very important when addressing people.* It is expected that you will use a person's title and their surname until invited to use their first name.Also in Finnish part : [ they cite: ´´Finnish Egalitarianism* Finland is an egalitarian society, which is reflected in their language, which employs gender-neutral words.* Finns are very modest and downplay their own accomplishments.* They view being humble and modest as virtues.#### Finnish Behaviour* Finns believe there is a proper way to act in any circumstance and always expect courteous behaviour.* Talk in moderate tones and do not do anything to call attention to yourself.* Serial conversation is the rule - i.e. listen to the speaker, wait for them to finish and then reply. Interrupting is rude´´Is that true for Estonian part as well?\n",
      "\n",
      "VADER: positive\n",
      "roBERTa: neutral\n"
     ]
    },
    {
     "name": "stdout",
     "output_type": "stream",
     "text": [
      " 2\n"
     ]
    },
    {
     "name": "stdout",
     "output_type": "stream",
     "text": [
      "\n",
      "Text:\n",
      "Before the fall of the Soviet Union, was Estonian and the other Baltic languages written in Latin script or Cyrillic? Was the current alphabet adopted in the 90s? It seems odd that Estonian/Latvian/Lithuanian would've stayed with a Latin script while in the USSR while a lot of the other languages were switched over into the Cyrillic alphabet.If the usage of the Latin alphabet predates the fall of the USSR, can anyone tell me why the Baltic languages used that as opposed to Cyrillic while the countries surrounding them did? Is it something to do with religion? I notice the orthodox countries aside from Romania all use Cyrillic but the Protestant and catholic countries like Poland or Czechoslovakia don't.Just curious, thanks!\n",
      "\n",
      "VADER: negative\n",
      "roBERTa: neutral\n"
     ]
    },
    {
     "name": "stdout",
     "output_type": "stream",
     "text": [
      " 2\n"
     ]
    },
    {
     "name": "stdout",
     "output_type": "stream",
     "text": [
      "\n",
      "Text:\n",
      "Question about Estonian startups I'm studying Computer Science. In one of the subjects - Buissnes in IT, our professor spent a good while talking quite favorably about startups in small countries. He brought Estonia as a prime example.To keep things short, the content of a lecture was more or less that IT startups in small countries have no chance to achieve satisfactory profitability on a domestic market. So they are 'born global', they start with a goal of conquering foreign markets. As a consequence they have no need for painful transitions or radical changes in their buissness models.So here are the questions:Is this something that is talked about in Estonia?What are the prime examples of such companies that are known to you?\n",
      "\n",
      "VADER: positive\n",
      "roBERTa: neutral\n"
     ]
    },
    {
     "name": "stdout",
     "output_type": "stream",
     "text": [
      " 2\n"
     ]
    },
    {
     "name": "stdout",
     "output_type": "stream",
     "text": [
      "\n",
      "Text:\n",
      "Spending new years eve in tallinn! Me and my friends need weed please dm! \n",
      "\n",
      "VADER: positive\n",
      "roBERTa: neutral\n"
     ]
    },
    {
     "name": "stdout",
     "output_type": "stream",
     "text": [
      " 2\n"
     ]
    },
    {
     "name": "stdout",
     "output_type": "stream",
     "text": [
      "\n",
      "Text:\n",
      "Help with buying a car ? Hey, we are expats, trying to buy a second hand car here, and many times we see companies that sell used cars, with deals that looks a little bit too good to be true.Problem is i have 0 understanding in cars, so i am not even sure how to check it.Lately we found some company that have really excellent deals( think Russians), name is : **ES Autod**, in street peterburi tee 71. (no reviews)Does anybody have experience with them ? any advice in the subject ? Thanks!\n",
      "\n",
      "VADER: positive\n",
      "roBERTa: negative\n"
     ]
    },
    {
     "name": "stdout",
     "output_type": "stream",
     "text": [
      " 2\n"
     ]
    },
    {
     "name": "stdout",
     "output_type": "stream",
     "text": [
      "\n",
      "Text:\n",
      "Where can I buy body pillows here? It doesn't have to have some anime cover, just a plain white body pillow is fine.\n",
      "\n",
      "VADER: positive\n",
      "roBERTa: neutral\n"
     ]
    },
    {
     "name": "stdout",
     "output_type": "stream",
     "text": [
      " 2\n"
     ]
    },
    {
     "name": "stdout",
     "output_type": "stream",
     "text": [
      "\n",
      "Text:\n",
      "When did Estonians start calling their country/people \"Eesti\"? Found this interesting response by a Finn in a [Quora thread]( *Virolainen/virolaiset* is the historical demonym for Estonian people in the Finnish language and several other Finnic languages. According to my knowledge, even Estonians didn’t use the word “eesti” before the Soviet rule — they referred to themselves as *maarahvas*(hilariously those words in Finnish would mean “lower country folk/peasants”) and their language was *maakeel*.&gt; I’m convinced that the word *eesti* was ultimately a Soviet invention although I haven’t studied the issue extensively.How true is this?Also, what is the etymology of *maarahvas*?\n",
      "\n",
      "VADER: positive\n",
      "roBERTa: neutral\n"
     ]
    },
    {
     "name": "stdout",
     "output_type": "stream",
     "text": [
      " 2\n"
     ]
    },
    {
     "name": "stdout",
     "output_type": "stream",
     "text": [
      "\n",
      "Text:\n",
      "About Hara Submarine Base I'd like to go and see that submarine base, but i looked google street view and it shows that you can't go there with a car. Also it tells that theres a CCTY and that it's private property. Dies this mean i need to got by feet or I can't go at all? Who should i contact for permission?\n",
      "\n",
      "VADER: positive\n",
      "roBERTa: negative\n"
     ]
    },
    {
     "name": "stdout",
     "output_type": "stream",
     "text": [
      " 2\n"
     ]
    },
    {
     "name": "stdout",
     "output_type": "stream",
     "text": [
      "\n",
      "Text:\n",
      "University of Tartu International Admissions Hello! I have doubts about the whole uniTartu situation now with the covid... And want to know if there is more that haven't got a reply of admissions department about the acceptance letter.\n",
      "\n",
      "VADER: positive\n",
      "roBERTa: negative\n"
     ]
    },
    {
     "name": "stdout",
     "output_type": "stream",
     "text": [
      " 3\n"
     ]
    },
    {
     "name": "stdout",
     "output_type": "stream",
     "text": [
      "\n",
      "Text:\n",
      "I'm going to Tallinn tomorrow, and I would like some advice on restaurants, places to see etc. Hey Estonians, I'm from Denmark, and I'm going to Tallinn tomorrow for about 4 days. I already know about the old part of the city (and the stuff you can read in every tourist book or website).Do you have any recommendations on restaurants (we would like to try the Russian and Estonian/Baltic cuisine), or places of interest to see? Thanks in advance. PS. I'm an eager photographer, so photo-friendly places are very welcome. \n",
      "\n",
      "VADER: positive\n",
      "roBERTa: neutral\n"
     ]
    },
    {
     "name": "stdout",
     "output_type": "stream",
     "text": [
      " 1\n"
     ]
    },
    {
     "name": "stdout",
     "output_type": "stream",
     "text": [
      "\n",
      "Text:\n",
      "Can someone help me register for a .ee domain? I'm from the US and want to register a .ee domain for a personal site since my name is too common, so I was wondering if anyone would be willing to help since someone with an Estonian ID is required. Thanks!\n",
      "\n",
      "VADER: positive\n",
      "roBERTa: neutral\n"
     ]
    },
    {
     "name": "stdout",
     "output_type": "stream",
     "text": [
      " 2\n"
     ]
    },
    {
     "name": "stdout",
     "output_type": "stream",
     "text": [
      "\n",
      "Text:\n",
      "Any US ex pats on here want to talk about your experiences? \n",
      "\n",
      "VADER: positive\n",
      "roBERTa: neutral\n"
     ]
    },
    {
     "name": "stdout",
     "output_type": "stream",
     "text": [
      " 2\n"
     ]
    },
    {
     "name": "stdout",
     "output_type": "stream",
     "text": [
      "\n",
      "Text:\n",
      "Is the letter ä in Estonian pronounced like the English phoneme /æ/? Or is it pronounced with a more open mouth than that? \n",
      "\n",
      "VADER: positive\n",
      "roBERTa: neutral\n"
     ]
    },
    {
     "name": "stdout",
     "output_type": "stream",
     "text": [
      " 2\n"
     ]
    },
    {
     "name": "stdout",
     "output_type": "stream",
     "text": [
      "\n",
      "Text:\n",
      "Accounting service in Tallinn Hi guys,it's almost 5 years since I'm living in Tallinn, 4 since  I opened my OÜ company.I've been always relying on the 1Office accounting services, but lately the quality is decreasing and the price is growing (now I'm paying like 170eur/m VAT included, I think it's way too much).Do you have any good accounting service to suggest? My company is super small (there's just me atm, my monthly transactions are usually less than 20).What I like of 1Office is that I can access ENVOICE for submitting my expenses and SmartAccounts for my invoices (where I also can see the overall financial situation). But for the rest nothing special.Many thanks for your help, cheers :)\n",
      "\n",
      "VADER: positive\n",
      "roBERTa: neutral\n"
     ]
    },
    {
     "name": "stdout",
     "output_type": "stream",
     "text": [
      " 1\n"
     ]
    },
    {
     "name": "stdout",
     "output_type": "stream",
     "text": [
      "\n",
      "Text:\n",
      "Credit raiting in Estonia Hello guys,&amp;#x200B;I have a problem and I was hoping someone else has gone through something similar.Basically, I got myself into a pickle due to an invoice from Telia that I left unpaid. It's completely my own fault, i was abroad and I just forgot about it. I paid them back since.What I learned now is that my name is in some kind of  **MAKSEHÄIREREGISTER** and basically nobody is willing to give me a loan at all or rent me an apartment? I tried to lease a phone and they flat out refused, landlords are turning me away as well.This is completely ridiculous as the amount is minuscule compared to my net monthly earnings and I have a perfect payment history on my loan.Does anyone know what to do in this situation?   Should I contact a lawyer?Also, it seems like the register is a private company, does anyone know what legal ground they have to store my personal information?&amp;#x200B;Thank you for any advice.edit -spelling\n",
      "\n",
      "VADER: positive\n",
      "roBERTa: negative\n"
     ]
    },
    {
     "name": "stdout",
     "output_type": "stream",
     "text": [
      " 2\n"
     ]
    },
    {
     "name": "stdout",
     "output_type": "stream",
     "text": [
      "\n",
      "Text:\n",
      "Need advice, I want to move to Estonia through career .&amp;#x200B;\n",
      "\n",
      "VADER: positive\n",
      "roBERTa: neutral\n"
     ]
    },
    {
     "name": "stdout",
     "output_type": "stream",
     "text": [
      " 2\n"
     ]
    },
    {
     "name": "stdout",
     "output_type": "stream",
     "text": [
      "\n",
      "Text:\n",
      "Russia to Estonia: best transportation mode? Hi, I'm a non EU resident, I don't need a visa for the EU and I constantly travel to Europe. I usually enter the Schengen area through Spain.After doing some tourism in Russia, I would like to take a train or bus to Tallinn. I've read that crossing the border by bus isn't a good experience (because of customs and immigration process) and that train is much better. Do you know anything about this?I'm also an e-resident.\n",
      "\n",
      "VADER: positive\n",
      "roBERTa: neutral\n"
     ]
    },
    {
     "name": "stdout",
     "output_type": "stream",
     "text": [
      " 2\n"
     ]
    },
    {
     "name": "stdout",
     "output_type": "stream",
     "text": [
      "\n",
      "Text:\n",
      "As a people known for being introverted &amp; blunt (but not rude), what is life like for people with Autism in Estonia? \n",
      "\n",
      "VADER: positive\n",
      "roBERTa: neutral\n"
     ]
    },
    {
     "name": "stdout",
     "output_type": "stream",
     "text": [
      " 2\n"
     ]
    },
    {
     "name": "stdout",
     "output_type": "stream",
     "text": [
      "\n",
      "Text:\n",
      "Need help identifying an old nursery rhyme? Hi, bit of a weird request, but can anyone tell me what the name of this nursery rhyme might be? My parents knew it from an old relative, but they only know a couple of the words. When they say it, it sounds to me like 'ola vola vec'. Given the age of this since long deceased relative, it would have to be very old (early 20th century or before). Very grateful to anyone who could help me with this!\n",
      "\n",
      "VADER: positive\n",
      "roBERTa: neutral\n"
     ]
    },
    {
     "name": "stdout",
     "output_type": "stream",
     "text": [
      " 2\n"
     ]
    },
    {
     "name": "stdout",
     "output_type": "stream",
     "text": [
      "\n",
      "Text:\n",
      "Growing magic mushrooms in Estonia? \n",
      "\n",
      "VADER: positive\n",
      "roBERTa: neutral\n"
     ]
    },
    {
     "name": "stdout",
     "output_type": "stream",
     "text": [
      " 2\n"
     ]
    },
    {
     "name": "stdout",
     "output_type": "stream",
     "text": [
      "\n",
      "Text:\n",
      "which company to sell a house through? i inherited a house and would like to sell it, so i think i need a realtor for it as i do not really know what im doing. which company should be used for this? i'm sure they all have a reputation but ive never paid attention to them personally\n",
      "\n",
      "VADER: positive\n",
      "roBERTa: neutral\n"
     ]
    },
    {
     "name": "stdout",
     "output_type": "stream",
     "text": [
      " 2\n"
     ]
    },
    {
     "name": "stdout",
     "output_type": "stream",
     "text": [
      "\n",
      "Text:\n",
      "Any tips for helping my Estonian friend move to Canada? Does anyone have any pointers on how to start the process of moving to Canada from Estonia?\n",
      "\n",
      "VADER: positive\n",
      "roBERTa: neutral\n"
     ]
    },
    {
     "name": "stdout",
     "output_type": "stream",
     "text": [
      " 2\n"
     ]
    },
    {
     "name": "stdout",
     "output_type": "stream",
     "text": [
      "\n",
      "Text:\n",
      "Had my UT admission interview 3 weeks ago and I haven't heard anything yet, Should I be worried? \n",
      "\n",
      "VADER: negative\n",
      "roBERTa: neutral\n"
     ]
    },
    {
     "name": "stdout",
     "output_type": "stream",
     "text": [
      " 1\n"
     ]
    },
    {
     "name": "stdout",
     "output_type": "stream",
     "text": [
      "\n",
      "Text:\n",
      "A few questions Is Estonia a cold place?  What time do you recommend I invite my girlfriend to visit Estonia with me (e.g. New Years, Valentines, Summer?) ?  What city/cities and what historical places and beaches? :P&amp;#x200B;Also, anyone has a Raison account?\n",
      "\n",
      "VADER: positive\n",
      "roBERTa: neutral\n"
     ]
    },
    {
     "name": "stdout",
     "output_type": "stream",
     "text": [
      " 2\n"
     ]
    },
    {
     "name": "stdout",
     "output_type": "stream",
     "text": [
      "\n",
      "Text:\n",
      "Looking to buy a home in Estonia. Need info on the fees. In the next year or so, my family and I will be moving to Estonia and hopefully looking to buy our first home.I understand that there are fees to pay, but I'd like to have a break down of who pays what and the amounts so I can budget for them. Anyone here have any good links for info? I'm struggling with my English only searches...\n",
      "\n",
      "VADER: positive\n",
      "roBERTa: neutral\n"
     ]
    },
    {
     "name": "stdout",
     "output_type": "stream",
     "text": [
      " 2\n"
     ]
    },
    {
     "name": "stdout",
     "output_type": "stream",
     "text": [
      "\n",
      "Text:\n",
      "Can someone help from Tallinn? Good day,I'm Erasmus intern and my host company located in Tallinn. Currently, I'm not living in Estonia (because of remote internship). Due to Covid-19 situation, the Erasmus office from my university sends me a form where I need to indicate the address where I'm living in Tallinn. Can someone help with address(pm please), It's just needed for \"protocol\".P.s. I can send proof of my internship.\n",
      "\n",
      "VADER: positive\n",
      "roBERTa: neutral\n"
     ]
    },
    {
     "name": "stdout",
     "output_type": "stream",
     "text": [
      " 2\n"
     ]
    },
    {
     "name": "stdout",
     "output_type": "stream",
     "text": [
      "\n",
      "Text:\n",
      "Buying an apartment in a commieblock a bad idea? \n",
      "\n",
      "VADER: negative\n",
      "roBERTa: neutral\n"
     ]
    },
    {
     "name": "stdout",
     "output_type": "stream",
     "text": [
      " 1\n"
     ]
    },
    {
     "name": "stdout",
     "output_type": "stream",
     "text": [
      "\n",
      "Text:\n",
      "Working opportunities while studying full-time Masters at Tallinn UT Hi Estonian Redditors,I am a 26\\-years\\-old computer engineer from a non\\-EU country who has been working around for 3 years, but cannot speak Estonian language yet. I applied to the MSc Computer and System Engineering program at Tallinn University of Technology, and have been accepted by the institute. This is a full\\-time MSc program with a duration of 2 years.To establish a financial support and to keep my experience and knowledge enhancing, in case of approving the admission offer and going to Tallinn, I would like to land a job at the same time.1\\) On the \"Working\" page of the site Studyinestonia, [ , it is stated that international students in Estonia do not need an additional working permit while studying full time. So, once I am granted a residence permit and a type\\-D national visa, I will also be claimed to gain a working permit, and won't need to deal with extra bureaucracy in order to gain it, right?2\\) On the same page, it is stated that working hours for international students are not limited. Does it mean that here is not a limitation as similar as, for example, the one in Germany which is 120\\-full\\-days \\(8 hours per day\\) or 240\\-half\\-days \\(4 hours per day\\)? Or does it refer to something else?Related to the same question, are foreign and non\\-EU students in Estonia allowed to work in a full\\-time job while studying a full\\-time MSc program at the same time?3\\) I know that Estonia is a country offering many IT\\-related opportunities. Taking all these facts into account, how difficult would it be for me to find an IT\\-related, most particularly software development, job while studying a full\\-time MSc program? I know the websites to land a job in Estonia. Are they a good resource to find such an occupation?4\\) Related to the previous question, what would my income per month be? How much can average monthly salaries in Estonia claimed to be offered for a person like me?Thank you in advance.\n",
      "\n",
      "VADER: positive\n",
      "roBERTa: neutral\n"
     ]
    },
    {
     "name": "stdout",
     "output_type": "stream",
     "text": [
      " 2\n"
     ]
    },
    {
     "name": "stdout",
     "output_type": "stream",
     "text": [
      "\n",
      "Text:\n",
      "Living with 350 euros per month as a Masters student? Estonian government scholarship offers a monthly amount of 350 euros for living costs for master students , so I would like to know taking into account that University of Tartu and Tallinn university offer accommodation for 150 euros per month(with utilities costs included) would it be possible to survive with 200 euros per month for food (cooking instead of going out) and miscellaneous costs such as transportion and maybe going out once a month? \n",
      "\n",
      "VADER: positive\n",
      "roBERTa: neutral\n"
     ]
    },
    {
     "name": "stdout",
     "output_type": "stream",
     "text": [
      " 2\n"
     ]
    },
    {
     "name": "stdout",
     "output_type": "stream",
     "text": [
      "\n",
      "Text:\n",
      "Are there and Lan Parties/Gaming Events in Estonia? Been here for a bit but haven't heard of any. So I'm genuinely curious.\n",
      "\n",
      "VADER: positive\n",
      "roBERTa: neutral\n"
     ]
    },
    {
     "name": "stdout",
     "output_type": "stream",
     "text": [
      " 2\n"
     ]
    },
    {
     "name": "stdout",
     "output_type": "stream",
     "text": [
      "\n",
      "Text:\n",
      "Buying used car. Inspection recommends. Tere, everyone, I’d like to buy a used car from Tallinn next week and export it. I’ve followed the advices on:  the seller on  and  check   as the car is imported and it doesn’t have registration plate. Checked the vin number on lkf.eeCan you recommend me a good place that can inspect the car before I buy it? Is it generally accepted to ask the seller to take the car for inspection? Any other advices are welcome too.Many thanks\n",
      "\n",
      "VADER: positive\n",
      "roBERTa: neutral\n"
     ]
    },
    {
     "name": "stdout",
     "output_type": "stream",
     "text": [
      " 2\n"
     ]
    },
    {
     "name": "stdout",
     "output_type": "stream",
     "text": [
      "\n",
      "Text:\n",
      "A question about universities in Tallinn. I'm looking to do a survey at a couple of Tallinn universities. Taltech might be among them. I'd be asking students a prepared set of questions.   1, which university has the most exchange students from outside of Europe?  2, When is exam period, I don't want to interupt students who are rushing to take exams?  3, what time of day is the best time to catch students who are not in class but still at the university grounds? For example, hanging out by the front of the university or in a common area/benches. The point is to catch them when they're outside of class, not busy studying.   Cheers.\n",
      "\n",
      "VADER: negative\n",
      "roBERTa: neutral\n"
     ]
    },
    {
     "name": "stdout",
     "output_type": "stream",
     "text": [
      " 2\n"
     ]
    },
    {
     "name": "stdout",
     "output_type": "stream",
     "text": [
      "\n",
      "Text:\n",
      "Not from Estonia, getting tattooed in Tallinn, wondering about ettiquete Tere! I just have a couple questions. I've gotten a few tattoos in the US but this is my first one abroad. I want to make sure I behave well for my artist and know what's expected.Is it customary to tip for tattoos in Estonia? If so what percentage should I leave the artist?Also, is it normal to get a free touch up after a few weeks to make sure the work is good, or will I have to pay for that? Anything else I should know? Thank you so much for any help, my apologies for not writing in Eesti keel, I don't know very much of it :(\n",
      "\n",
      "VADER: positive\n",
      "roBERTa: neutral\n"
     ]
    },
    {
     "name": "stdout",
     "output_type": "stream",
     "text": [
      " 2\n"
     ]
    },
    {
     "name": "stdout",
     "output_type": "stream",
     "text": [
      "\n",
      "Text:\n",
      "What would be the Estonian equivalent of \"let's fucking go!\" ? \n",
      "\n",
      "VADER: neutral\n",
      "roBERTa: negative\n"
     ]
    },
    {
     "name": "stdout",
     "output_type": "stream",
     "text": [
      " 1\n"
     ]
    },
    {
     "name": "stdout",
     "output_type": "stream",
     "text": [
      "\n",
      "Text:\n",
      "The Russians have become more delusional. \n",
      "\n",
      "VADER: neutral\n",
      "roBERTa: negative\n"
     ]
    },
    {
     "name": "stdout",
     "output_type": "stream",
     "text": [
      " 2\n"
     ]
    },
    {
     "name": "stdout",
     "output_type": "stream",
     "text": [
      "\n",
      "Text:\n",
      "Questions about children books Hello people!A Latvian here.When I was a kid, I read two Estonian books which I quite liked. I can't recall their names. Maybe you can help me?- One was about a little brother and an older sister, who live in Tallinn. they go to school. That's about all I remember. Though there was one pretty remarkable picture, where they both are flying (in a dream) over Tallinn, above the towers of the Old Town, holding each other's hand. Does that sound familiar?- The other one was about a family of giants. A giant fellow married a giant lady and they had kids. They also had a motorcycle, but in order to go around with all his giant family the fellow had to use airplane fuel. Any clues? (Though I am not sure that the last one was an Estonian book, it might had been Finnish too).Anybody?\n",
      "\n",
      "VADER: positive\n",
      "roBERTa: neutral\n"
     ]
    },
    {
     "name": "stdout",
     "output_type": "stream",
     "text": [
      " 2\n"
     ]
    },
    {
     "name": "stdout",
     "output_type": "stream",
     "text": [
      "\n",
      "Text:\n",
      "Hello!1 I'm not sure if this is the right sub for this but \n",
      "\n",
      "VADER: negative\n",
      "roBERTa: neutral\n"
     ]
    },
    {
     "name": "stdout",
     "output_type": "stream",
     "text": [
      " 2\n"
     ]
    },
    {
     "name": "stdout",
     "output_type": "stream",
     "text": [
      "\n",
      "Text:\n",
      "Driving license theory test Tere,I just moved to Estonia and my Indian driving license will only be valid for a year it seems. I read that in order to get an Estonian license, I need to pass a theory and practical driving test. Practical is fine but what is the theory test? Is it just common sense or does it need some preparation?The mnt.ee just asks to read through the [traffic act](\n",
      "\n",
      "VADER: positive\n",
      "roBERTa: neutral\n"
     ]
    },
    {
     "name": "stdout",
     "output_type": "stream",
     "text": [
      " 2\n"
     ]
    },
    {
     "name": "stdout",
     "output_type": "stream",
     "text": [
      "\n",
      "Text:\n",
      "Question about Engineering Physics MSc in TTU Hello,I applied Engineering Physics but i do not know what to remember before interview and prepare for studying. Is there any one accepted/finished this section? Any help accepted with pleasure :)\n",
      "\n",
      "VADER: positive\n",
      "roBERTa: neutral\n"
     ]
    },
    {
     "name": "stdout",
     "output_type": "stream",
     "text": [
      " 2\n"
     ]
    },
    {
     "name": "stdout",
     "output_type": "stream",
     "text": [
      "\n",
      "Text:\n",
      "Is the aurora borealis visible in or around Tartu? Tere!   If they can be seen here, then when might they be visible? Will I have a better chance if seeing them by traveling to a less light polluted city like Otepää?\n",
      "\n",
      "VADER: positive\n",
      "roBERTa: neutral\n"
     ]
    },
    {
     "name": "stdout",
     "output_type": "stream",
     "text": [
      " 2\n"
     ]
    },
    {
     "name": "stdout",
     "output_type": "stream",
     "text": [
      "\n",
      "Text:\n",
      "Which is the most popular team sport in Estonia? Finland is ice hockey, Latvia is ice hockey and basketball and Lithuania is basketball, which one is in Estonia? (Singing choirs and Eurovision aren´t sports, sorry) \n",
      "\n",
      "VADER: positive\n",
      "roBERTa: neutral\n"
     ]
    },
    {
     "name": "stdout",
     "output_type": "stream",
     "text": [
      " 2\n"
     ]
    },
    {
     "name": "stdout",
     "output_type": "stream",
     "text": [
      "\n",
      "Text:\n",
      "Which bank should I choose ? Hello everyone. After settling in Estonia a few months ago, I now have to create a bank account in an Estonian bank. My new workplace absolutely want an Estonian account.I tried to do my own research and I noticed there are not a lot of  truly Estonian owned banks. In tartu the most common ones would be Swedbank and SEB I guess, both swedish.I really think it's better for the country to store my money in Estonia , so I would like a truly Estonian bank.It seems that's LHV could be a good choice, what do you think ? Do you have any advice ? Thanks a lot for your help!\n",
      "\n",
      "VADER: positive\n",
      "roBERTa: neutral\n"
     ]
    },
    {
     "name": "stdout",
     "output_type": "stream",
     "text": [
      " 2\n"
     ]
    },
    {
     "name": "stdout",
     "output_type": "stream",
     "text": [
      "\n",
      "Text:\n",
      "Device test lab in Tallinn? Hi, I want to check few HTML5 browser games in mobile and console browsers. Is there place in Tallinn, to do so?\n",
      "\n",
      "VADER: positive\n",
      "roBERTa: neutral\n"
     ]
    },
    {
     "name": "stdout",
     "output_type": "stream",
     "text": [
      " 2\n"
     ]
    },
    {
     "name": "stdout",
     "output_type": "stream",
     "text": [
      "\n",
      "Text:\n",
      "Where to buy 3G or 4G pre-paid (no contract) data sim for iPad mini as a tourist in Estonia? Tere,I am visiting Estonia (from Australia) for a month over June/July, and want to use my [iPad mini with Retina display on 4G] ( while I am there. Could anyone please recommend any Estonian service providers/carriers who have pre-paid data deals that don't require a contract? I want to get the nano-sim with an amount of data to use up in a short time - for example 2GB for €30.Does this exist? Thank you for your reply! Suur-aitäh! Head aega!\n",
      "\n",
      "VADER: positive\n",
      "roBERTa: neutral\n"
     ]
    },
    {
     "name": "stdout",
     "output_type": "stream",
     "text": [
      " 2\n"
     ]
    },
    {
     "name": "stdout",
     "output_type": "stream",
     "text": [
      "\n",
      "Text:\n",
      "Estonia Student Life I have a plan to go to Estonia as a student one day, I really don't know when, But meanwhile I like to know more about Estnoia, I already searched google enough, But I think better to get information from redditers.My questions are as follows,1. Can I work in Estonia without knowing their langauge? ( I heard they speak english well, specially the youth)2. Are there part time jobs for International students in Estonia3. Is the P/T job salary enough to survive in Estonia?well, I have heard that Estonian girls are very pretty and they are very caring for their life patner as well. Anyways this is addtional fact though, I am waiting for your hearings for this post. Thank you..\n",
      "\n",
      "VADER: positive\n",
      "roBERTa: neutral\n"
     ]
    },
    {
     "name": "stdout",
     "output_type": "stream",
     "text": [
      " 2\n"
     ]
    },
    {
     "name": "stdout",
     "output_type": "stream",
     "text": [
      "\n",
      "Text:\n",
      "Travelling by car from the Netherlands to Tallinn on the 3th of August. Hey! So I (dutch guy) wanted to visit my GF who works in Tallinn during this summer holidays. I'm planning on going by plane, but she says it'll be better if I go by car. This is so we have easier transport while I'm in the country.        My plan is to arrive in Tallinn on Friday the 4th of August and leave at Friday 11th.        Going by plane is much cheaper for me. Except for when someone wants to travel with me by car. I already added a ride on [blablacar]( If I'm going by car I'll drive away at the 3th of August, spend the night in Lithuania, and on the 4th I will arrive in Tallinn. On the 11th I will drive from Tallinn back to the Netherlands.        For this journey I ask 130 for gas. However, this is negotiable.        \n",
      "\n",
      "VADER: positive\n",
      "roBERTa: neutral\n"
     ]
    },
    {
     "name": "stdout",
     "output_type": "stream",
     "text": [
      " 2\n"
     ]
    },
    {
     "name": "stdout",
     "output_type": "stream",
     "text": [
      "\n",
      "Text:\n",
      "Is Viljandi worth visiting? Hello ! I'm from Latvia and i'm going to go to Estonia in 2 days.  I have a day to spare , and i have a plan to go to Viljandi then. But i don't know if it is worth it , as i have heard from very few people . Any tips?\n",
      "\n",
      "VADER: positive\n",
      "roBERTa: neutral\n"
     ]
    },
    {
     "name": "stdout",
     "output_type": "stream",
     "text": [
      " 2\n"
     ]
    },
    {
     "name": "stdout",
     "output_type": "stream",
     "text": [
      "\n",
      "Text:\n",
      "Married to an Estonian- advice on signing up for territorial defence roles Hi all.I'm looking for information on any territorial defence equivalent groups/Training programs in Estonia.My Estonian mother in law asked me if I would fight the Russians were there a need be. Obviously as someone that now eats at the table of Estonia; it's would be my duty to defend my new family. I want to be useful where possible.I'm not a soldier or a combatant of any kind, but I've been shooting since I was 5 of age. Any advice or information would be appreciated.\n",
      "\n",
      "VADER: positive\n",
      "roBERTa: neutral\n"
     ]
    },
    {
     "name": "stdout",
     "output_type": "stream",
     "text": [
      " 1\n"
     ]
    },
    {
     "name": "stdout",
     "output_type": "stream",
     "text": [
      "\n",
      "Text:\n",
      "A dirty counting rhyme in Estonian? (sorry if question is stupid or inappropriate)  So, back in the days my schoolmate (he later went back to live in his native Tallinn) used to recite a puny little counting rhyme in Estonian, saying it was sort of well-known, and that it translated roughly to \"One two three - there's hair growing on the ass\".   Well, I certainly could make it as far as \"Üks Kaks Kolm\", but I can't remember the rest, and - was it really a thing?\n",
      "\n",
      "VADER: negative\n",
      "roBERTa: neutral\n"
     ]
    },
    {
     "name": "stdout",
     "output_type": "stream",
     "text": [
      " 2\n"
     ]
    },
    {
     "name": "stdout",
     "output_type": "stream",
     "text": [
      "\n",
      "Text:\n",
      "Can you help me on a project about the EU by recording a short video of yourself saying a few things about the EU? Hello guys, I'm a portuguese student that is working on a project about the EU. My vision is to get one person from each EU country to answer, in video, why you think the EU is a community of values. A short sentece so the video doesn't get too long is all I need. Thanks for any help!Reach me out via PM or email that Ill give you privately.\n",
      "\n",
      "VADER: positive\n",
      "roBERTa: neutral\n"
     ]
    },
    {
     "name": "stdout",
     "output_type": "stream",
     "text": [
      " 2\n"
     ]
    },
    {
     "name": "stdout",
     "output_type": "stream",
     "text": [
      "\n",
      "Text:\n",
      "why estonians hate the scottish and welsh BUT love the ENGLISH \n",
      "\n",
      "VADER: positive\n",
      "roBERTa: negative\n"
     ]
    },
    {
     "name": "stdout",
     "output_type": "stream",
     "text": [
      " 2\n"
     ]
    },
    {
     "name": "stdout",
     "output_type": "stream",
     "text": [
      "\n",
      "Text:\n",
      "Any physicians here? Question about ultrasound So im physician from Russia and i cant find my specialty in Estonia, can you help me figuring it out? What i do in Russia is called functional diagnostics - i read all ecg, echocardiogram, perform ultrasound and  holter monitoring. Thanks in advance\n",
      "\n",
      "VADER: positive\n",
      "roBERTa: neutral\n"
     ]
    },
    {
     "name": "stdout",
     "output_type": "stream",
     "text": [
      " 2\n"
     ]
    },
    {
     "name": "stdout",
     "output_type": "stream",
     "text": [
      "\n",
      "Text:\n",
      "From the Militarization of the Economy to Threats from Outer Space \n",
      "\n",
      "VADER: negative\n",
      "roBERTa: neutral\n"
     ]
    },
    {
     "name": "stdout",
     "output_type": "stream",
     "text": [
      " 2\n"
     ]
    },
    {
     "name": "stdout",
     "output_type": "stream",
     "text": [
      "\n",
      "Text:\n",
      "Admission exam for Cybersecurity Bachelor Program at Taltech Hi everyone! If anyone here did the admission exam for the Cybersecurity bachelor program at Taltech, could you please tell me what's in it and how can I prepare for it?I am currently in an IT high school in Italy (high schools here are separated by the main subject you wanna take) and I have a good knowledge of python and java, I also know a bit about Html, css and JavaScript.I'm also studying Networking and Operative Systems and I have a good knowledge about virtual machines too.I already obtained a Cisco IT-essentials certification and I'm currently enrolled in the Cisco CCNA course, which I'm gonna finish this year.Is all this useful for passing the test or not?If someone could tell me where I can take sample tests or where I could practice for the test, it would be really helpful!I'm planning on applying for the 2022/2023 program.Thx ✌🏻\n",
      "\n",
      "VADER: positive\n",
      "roBERTa: neutral\n"
     ]
    },
    {
     "name": "stdout",
     "output_type": "stream",
     "text": [
      " 2\n"
     ]
    },
    {
     "name": "stdout",
     "output_type": "stream",
     "text": [
      "\n",
      "Text:\n",
      "Winter boots and tailor recommendation Tere,Winter is coming and as a brand-new inhabitant of Tallinn I need to get myself a pair of winter boots, as well as good socks. I was wondering if you guys would have any boots recommendations ? I'm looking for something that is both stylish and that lasts long - I'm willing to pay the necessary price. And maybe a specific sock brand that's good for the cold?I'd also like to know if anybody knows a tailor with a fair price around the city? My jacket has ripped off and I wanna get it fixed and I'd like to get the cuffs of some of my pants hemmed/shortened and I've no idea where to find someone who could it for me - I suck at this kinda stuff so I wouldn't trust myself to do it. Would you guys know about anyone or a company or whatever who could provide these services?Suur äitah!\n",
      "\n",
      "VADER: positive\n",
      "roBERTa: neutral\n"
     ]
    },
    {
     "name": "stdout",
     "output_type": "stream",
     "text": [
      " 1\n"
     ]
    },
    {
     "name": "stdout",
     "output_type": "stream",
     "text": [
      "\n",
      "Text:\n",
      "Shop for buying electronics in Tallinn? I'm trying to find shops that sell electronics in Tallinn (I'm talking electronic components, not appliances like Euronics, Klick, etc), to be specific I need to buy a Voltage converter (transformer) from 110v to 220v, the only electronics place I've seen is the LEMONA electronics near kristiine keskus but they don't have it and searching on the web without estonian knowledge is hard as it keeps ending up in euronics and so on :P so I need some tips of other big stores to search for electronics in general (I also eventually will need a multimeter and some semiconductors etc, so would be good to know of some big electronics stores for future reference).Thanks!\n",
      "\n",
      "VADER: positive\n",
      "roBERTa: neutral\n"
     ]
    },
    {
     "name": "stdout",
     "output_type": "stream",
     "text": [
      " 2\n"
     ]
    },
    {
     "name": "stdout",
     "output_type": "stream",
     "text": [
      "\n",
      "Text:\n",
      "Question about Rights of E-Residents I apologize if you guys do not like foreigner questions about e-residency. If this isn't the proper place to ask this question, please direct me accordingly.I have an interest in both technology and law, and I recently found out about Estonian e-residency and e-services. In my research, I could not figure out a big thing. **What are the actual rights of e-residents?** I know e-residency does not confer citizenship or residency. I also know that practically speaking you can use the e-services, but when I looked into various Estonian laws ([available in English online]( I could not find a single guarantee. § 20^10 of the Identity Documents Act seems to allow public or private service providers discretion in refusing to deal with e-residents. I can't tell if § 20^10 (2) limits public service refusal in only limited cases (English should be \"may only [restrict]\" rather than \"may [restrict]\").  Say you had a bank account or a contract with an Estonian resident and the resident materially breaches, or say you want to litigate an Estonian tax issue. Do e-residents even have rights that can be protected? Do they have the right to litigate these issues?  Am I missing something?\n",
      "\n",
      "VADER: negative\n",
      "roBERTa: neutral\n"
     ]
    },
    {
     "name": "stdout",
     "output_type": "stream",
     "text": [
      " 2\n"
     ]
    },
    {
     "name": "stdout",
     "output_type": "stream",
     "text": [
      "\n",
      "Text:\n",
      "How do I buy tram tickets at Linnahall station? I have to get the tram to Bussijaam early tomorrow but after looking at the tram station beside my hotel I don’t see a ticket machine? I don’t have any travel card just good old fashioned euros\n",
      "\n",
      "VADER: positive\n",
      "roBERTa: negative\n"
     ]
    },
    {
     "name": "stdout",
     "output_type": "stream",
     "text": [
      " 2\n"
     ]
    },
    {
     "name": "stdout",
     "output_type": "stream",
     "text": [
      "\n",
      "Text:\n",
      "about salary I want to ask you something.  I will come to Estonia to work.  what is the average and minimum salary in the country?\n",
      "\n",
      "VADER: positive\n",
      "roBERTa: neutral\n"
     ]
    },
    {
     "name": "stdout",
     "output_type": "stream",
     "text": [
      " 2\n"
     ]
    },
    {
     "name": "stdout",
     "output_type": "stream",
     "text": [
      "\n",
      "Text:\n",
      "Which cities/towns do you will grow and develop the most in Estonia in the future?  Which cities/towns do you will grow and develop the most in Estonia in the future?\n",
      "\n",
      "VADER: neutral\n",
      "roBERTa: positive\n"
     ]
    },
    {
     "name": "stdout",
     "output_type": "stream",
     "text": [
      " 2\n"
     ]
    },
    {
     "name": "stdout",
     "output_type": "stream",
     "text": [
      "\n",
      "Text:\n",
      "Principal activity of a company Tere. When registering a new private limited company in Estonia I need to select a principal activity which is main source of revenue. The company can have other activities but I wonder how it is regulated. For example if the company creates software it is 62011 code (Computer programming activities) in EMTAK. But if it also does software consulting it is 62021. Now if the company want to diversify the assets and buy a property or ETFs it will be a different activity. Should I register different companies for each of these activities? I want to create software products, offer software consulting and re-invest part of the revenue in buying stock indexes and other securities.\n",
      "\n",
      "VADER: positive\n",
      "roBERTa: neutral\n"
     ]
    },
    {
     "name": "stdout",
     "output_type": "stream",
     "text": [
      " 2\n"
     ]
    },
    {
     "name": "stdout",
     "output_type": "stream",
     "text": [
      "\n",
      "Text:\n",
      "Last Day in tallinn and just Wann talk to some Lokals! Yeah I am the recent few hours in tallinn and didn't really have any chances to talk to locals. So I guess wanna meet ⠀up and just talk a bit?\n",
      "\n",
      "VADER: positive\n",
      "roBERTa: neutral\n"
     ]
    },
    {
     "name": "stdout",
     "output_type": "stream",
     "text": [
      " 2\n"
     ]
    },
    {
     "name": "stdout",
     "output_type": "stream",
     "text": [
      "\n",
      "Text:\n",
      "Can anyone recommend me an Estonian website that delivers flowers, chocolate and other stuff? Preferably written in English too. Good afternoon,&amp;#x200B;I would like to order flowers and (if possible) chocolate to be delivered in Tallinn, since my girlfriend is going to stay in your beautiful country till the end of January.Well, it would be great if I could order a bottle of wine too...unfortunately, I don't understand Estonian at all. Can anyone link me a website written in English, if possible?&amp;#x200B;If it's not possible, maybe someone knows a reliable website written in Estonian... I would use google translate, I guess.\n",
      "\n",
      "VADER: positive\n",
      "roBERTa: neutral\n"
     ]
    },
    {
     "name": "stdout",
     "output_type": "stream",
     "text": [
      " 1\n"
     ]
    },
    {
     "name": "stdout",
     "output_type": "stream",
     "text": [
      "\n",
      "Text:\n",
      "How do you say ‘no thank you’ or it’s equivalent in Eesti Keelt? Like when someone asks if you want something? A lady asked if I wanted a küpsis and I felt like Ei or Ei taha is kinda rudez.\n",
      "\n",
      "VADER: positive\n",
      "roBERTa: negative\n"
     ]
    },
    {
     "name": "stdout",
     "output_type": "stream",
     "text": [
      " 3\n"
     ]
    },
    {
     "name": "stdout",
     "output_type": "stream",
     "text": [
      "\n",
      "Text:\n",
      "Silver/Grey hair salon HELP! Hey, I want to blend my grey hair into dyed hair but a few of the salons I've contacted said that they can't/won't do silver or grey processing. Anyone know of any in or near Tallinn?? \n",
      "\n",
      "VADER: positive\n",
      "roBERTa: negative\n"
     ]
    },
    {
     "name": "stdout",
     "output_type": "stream",
     "text": [
      " 3\n"
     ]
    },
    {
     "name": "stdout",
     "output_type": "stream",
     "text": [
      "\n",
      "Text:\n",
      "So Chinese nationalists, in Estonia, are flagging my videos with false claims. \n",
      "\n",
      "VADER: neutral\n",
      "roBERTa: negative\n"
     ]
    },
    {
     "name": "stdout",
     "output_type": "stream",
     "text": [
      " 2\n"
     ]
    },
    {
     "name": "stdout",
     "output_type": "stream",
     "text": [
      "\n",
      "Text:\n",
      "How are cryptocurrency gains taxed? Is the tax rate 20% for capital gains in general? Is it also the same for receiving dividends?\n",
      "\n",
      "VADER: positive\n",
      "roBERTa: neutral\n"
     ]
    },
    {
     "name": "stdout",
     "output_type": "stream",
     "text": [
      " 2\n"
     ]
    },
    {
     "name": "stdout",
     "output_type": "stream",
     "text": [
      "\n",
      "Text:\n",
      "Soon to be tourist wondering what the covid restrictions are at bars / clubs Do you have to wear a mask inside bars / clubs?What time are they open until? Thank you!\n",
      "\n",
      "VADER: positive\n",
      "roBERTa: neutral\n"
     ]
    },
    {
     "name": "stdout",
     "output_type": "stream",
     "text": [
      " 2\n"
     ]
    },
    {
     "name": "stdout",
     "output_type": "stream",
     "text": [
      "\n",
      "Text:\n",
      "Advice for renting direct from owners Hi guys new to reddit and also going to be new to Tallinn. I'm moving to Tallinn at the start of June for work and am really struggling to find a place to stay (room to rent) within my budget, as the company I am going to work for is paying me a crap wage (just using them as a stepping stone till I find a better job and can afford a better gaff).I've signed up to all the FB pages but not really getting anywhere as it all seems to be student digs and since I'm older (37) and will be working full time, I don't think that will suit me very much.Has anyone any links to sites where you can rent rooms etc direct from the owner, without having to pay the agency fees and all that?Any advice would be appreciated :)\n",
      "\n",
      "VADER: positive\n",
      "roBERTa: neutral\n"
     ]
    },
    {
     "name": "stdout",
     "output_type": "stream",
     "text": [
      " 3\n"
     ]
    },
    {
     "name": "stdout",
     "output_type": "stream",
     "text": [
      "\n",
      "Text:\n",
      "Does Estonia do April Fool's day? Got this email about the e-Residency program \"Our foreign representations will be technically ready to take your applications from 1 April 2015. In the first weeks you will still be required to come to the office twice (once to apply and then again to get the card). Starting from May 2015 aka soon it will become much easier: you can then fill out an application online ahead of time and only come in yourself once.\"I know it's probably genuine but I thought it was funny they choose April 1st. \n",
      "\n",
      "VADER: positive\n",
      "roBERTa: neutral\n"
     ]
    },
    {
     "name": "stdout",
     "output_type": "stream",
     "text": [
      " 2\n"
     ]
    },
    {
     "name": "stdout",
     "output_type": "stream",
     "text": [
      "\n",
      "Text:\n",
      "Being a captian of your own yacth Hello everyone! I am curious about is there any education for certificate for being a captain and sailing in Tallinn (of course in English). First education/certificate then i am planing to buy a yacht(small one). Any idea, help, tips?Thank you a lot.Editing:Typo*\n",
      "\n",
      "VADER: positive\n",
      "roBERTa: neutral\n"
     ]
    },
    {
     "name": "stdout",
     "output_type": "stream",
     "text": [
      " 2\n"
     ]
    },
    {
     "name": "stdout",
     "output_type": "stream",
     "text": [
      "\n",
      "Text:\n",
      "Where to find sushi-grade fish in Tallinn? You can't make sushi with just any raw fish, it has to fit a certain grade. I can't find any stores that sell fish marked as sushi grade. Anyone have a lead? Thanks!\n",
      "\n",
      "VADER: positive\n",
      "roBERTa: neutral\n"
     ]
    },
    {
     "name": "stdout",
     "output_type": "stream",
     "text": [
      " 2\n"
     ]
    },
    {
     "name": "stdout",
     "output_type": "stream",
     "text": [
      "\n",
      "Text:\n",
      "Hi everyone, I have a question about gun licenses in Estonia. A friend of mine likes going to shooting ranges and using the guns that the ranges provide. He decided that he would like to have his own gun when going to ranges instead of renting each time.Can a non EU national, who has the right to live in Estonia, obtain a gun license (after having their background check cleared, does the first aid course, passes medical check, passes gun training course)? I have not seen any restrictions towards that in the law, but I wanted to double-check for him.\n",
      "\n",
      "VADER: positive\n",
      "roBERTa: neutral\n"
     ]
    },
    {
     "name": "stdout",
     "output_type": "stream",
     "text": [
      " 2\n"
     ]
    },
    {
     "name": "stdout",
     "output_type": "stream",
     "text": [
      "\n",
      "Text:\n",
      "So if Estonia has such an advanced e-governance system and IT sector, why is there no significant economic growth? Tere!I was wondering about this thing, since Estonia is so often mentioned as an example of a perfect digital age country and a bulwark of useful IT developments in the governance. The [New Yorker called it \"the Digital Republic\"]( [Wired magazine named it as the \"most advanced digital society in the world\"]( and hence it's even a founding member [of the D5]( since 2013, the economic growth is so sluggish that it's barely noticeable in the numbers. Despite being the best-placing economy at the time when the Baltic states gained their independence from the Soviet Union, now Lithunia is even a bit ahed of Estonia in terms of GDP/capita (and the first things that come to my mind about Lithuania are basketball and high suicide rates - none of which should rationally contribute to overtaking a highly digitalized society). Factors like corruption, high government debt, a flawed democratic system or low employment rates could hold back the economy - but Estonia fares great in those econometric things too! You even got all those startup companies like Taxify, Transferwise and even Skype started out as an Estonian company.So I ask the Estonian people and Estonia-experts: what is wrong here, what am I missing? That 'package' should make a superstar mini-boomer country, being the next Singapore, Japan, Taiwan or Korea, but it is not. Of course, it's not too bad either - but definitely not as big success story like those Asian countries.\n",
      "\n",
      "VADER: positive\n",
      "roBERTa: neutral\n"
     ]
    },
    {
     "name": "stdout",
     "output_type": "stream",
     "text": [
      " 2\n"
     ]
    },
    {
     "name": "stdout",
     "output_type": "stream",
     "text": [
      "\n",
      "Text:\n",
      "Need advice on buying real estate in Tartu Context: we are an Estonian/American couple who need a semi-permanent base close to the center of town for business reasons (do not have or want a car). We have been living in 30 square meters for too long, so looking for 45 s.m. up. Budget is up to 120,000 Euros.1. Is this a good time to buy?2. Are there common pitfalls?  things to look out for?3. Should we look at newer buildings only?4. Are we likely to recoup our investment if we have to leave in 5/10 years?5. Interested chiefly in Karlova, Kesklinn, and Suppelinn. Should we consider other areas too?EDIT:  We have found some apartments in buildings that we like. How do you get \"comps\" here (the prices for which the other units in the building sold)?Thanks in advance for your advice and time.\n",
      "\n",
      "VADER: positive\n",
      "roBERTa: neutral\n"
     ]
    },
    {
     "name": "stdout",
     "output_type": "stream",
     "text": [
      " 2\n"
     ]
    },
    {
     "name": "stdout",
     "output_type": "stream",
     "text": [
      "\n",
      "Text:\n",
      "Thinking of moving to Estonia Hi everyone,I've been reading this subreddit for the last couple days, and it has helped a lot, but I still have a question.&amp;#x200B;First of all, I'm a 26 years old lawyer from Brazil and, after doing some research online I'm thinking about moving to Estonia.My plan is to get a Master's in either Tartu or Tallinn, and the main options for me are International Business Administration and IT Law.&amp;#x200B;What worries me is that I'm not originally from a tech but from a business background, and it might be hard to get a job, since being a lawyer in a foreign country does not exactly mean anything.&amp;#x200B;Do you think that any of the Master's I'm thinking of would help me get a job in Estonia? Which one do you think would do better?Thanks a lot guys,&amp;#x200B;Vexy\n",
      "\n",
      "VADER: negative\n",
      "roBERTa: neutral\n"
     ]
    },
    {
     "name": "stdout",
     "output_type": "stream",
     "text": [
      " 2\n"
     ]
    },
    {
     "name": "stdout",
     "output_type": "stream",
     "text": [
      "\n",
      "Text:\n",
      "Ordering items from French amazon If i wanted to order a pair of headphones from amazon.fr do i have to pay extra taxes or not since France is in European union? Sorry for a silly question \n",
      "\n",
      "VADER: positive\n",
      "roBERTa: neutral\n"
     ]
    },
    {
     "name": "stdout",
     "output_type": "stream",
     "text": [
      " 2\n"
     ]
    },
    {
     "name": "stdout",
     "output_type": "stream",
     "text": [
      "\n"
     ]
    }
   ],
   "source": [
    "human_annotation = []\n",
    "\n",
    "for i in random_sample:\n",
    "    print(\"Text:\")\n",
    "    print(sentiment_sia_en_texts[i])\n",
    "    print()\n",
    "    print(\"VADER:\", sentiment_sia_en[i])\n",
    "    print(\"roBERTa:\", sentiment_en[i])\n",
    "    # MÄRGIME ÜLES, KUMBAL MUDELIL OLI ÕIGUS -> VADER=1; roBERTa=2, mittekumbki=3\n",
    "    human_annotation.append(input())\n",
    "    print()"
   ]
  },
  {
   "cell_type": "code",
   "execution_count": 116,
   "id": "cac4bac7-c17e-4790-9a4d-104e9e6963ae",
   "metadata": {},
   "outputs": [
    {
     "data": {
      "text/plain": [
       "'2'"
      ]
     },
     "execution_count": 116,
     "metadata": {},
     "output_type": "execute_result"
    }
   ],
   "source": [
    "the_most_accurate = Counter(human_annotation)\n",
    "the_most_accurate.most_common(1)[0][0]"
   ]
  },
  {
   "cell_type": "code",
   "execution_count": 117,
   "id": "bb3effa6-2b19-44a1-9ace-3a3cb3ce3604",
   "metadata": {},
   "outputs": [],
   "source": [
    "all = sum(list(the_most_accurate.values()))\n",
    "values = list(the_most_accurate.values())\n",
    "results = [values[0]/all, values[1]/all, values[2]/all]"
   ]
  },
  {
   "cell_type": "markdown",
   "id": "69d3090a-b1ee-4135-9d86-b6271397ba4d",
   "metadata": {},
   "source": [
    "<h5>Näitame graafikuga, milline mudel oli täpsem</h5>"
   ]
  },
  {
   "cell_type": "code",
   "execution_count": 118,
   "id": "57a8f132-e78b-42ee-888d-ce496d972aa9",
   "metadata": {},
   "outputs": [
    {
     "data": {
      "text/plain": [
       "<BarContainer object of 3 artists>"
      ]
     },
     "execution_count": 118,
     "metadata": {},
     "output_type": "execute_result"
    },
    {
     "data": {
      "image/png": "[encoded data removed]",
      "text/plain": [
       "<Figure size 640x480 with 1 Axes>"
      ]
     },
     "metadata": {},
     "output_type": "display_data"
    }
   ],
   "source": [
    "plt.bar(['Mitte kumbki', 'roBERTa', 'VADER'], results)"
   ]
  }
 ],
 "metadata": {
  "kernelspec": {
   "display_name": "Python 3 (ipykernel)",
   "language": "python",
   "name": "python3"
  },
  "language_info": {
   "codemirror_mode": {
    "name": "ipython",
    "version": 3
   },
   "file_extension": ".py",
   "mimetype": "text/x-python",
   "name": "python",
   "nbconvert_exporter": "python",
   "pygments_lexer": "ipython3",
   "version": "3.9.18"
  }
 },
 "nbformat": 4,
 "nbformat_minor": 5
}
